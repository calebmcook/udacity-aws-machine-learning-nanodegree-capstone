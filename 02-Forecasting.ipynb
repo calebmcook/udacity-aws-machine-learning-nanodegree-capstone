{
 "cells": [
  {
   "cell_type": "markdown",
   "id": "663fbce2",
   "metadata": {},
   "source": [
    "# AWS Machine Learning Nandoegree Capstone Project\n",
    "# Forecasting with Amazon Forecast"
   ]
  },
  {
   "cell_type": "markdown",
   "id": "72bd69df",
   "metadata": {},
   "source": [
    "## Note! These steps were taken from the below reference Forecast walkthrough: \n",
    "https://github.com/aws-samples/amazon-forecast-samples/blob/main/notebooks/basic/Getting_Started/Amazon_Forecast_Quick_Start_Guide.ipynb\n",
    "https://github.com/aws-samples/amazon-forecast-samples/blob/main/notebooks/common/util/fcst_utils.py"
   ]
  },
  {
   "cell_type": "markdown",
   "id": "571041c0",
   "metadata": {},
   "source": [
    "#### Setup Notebook Environment"
   ]
  },
  {
   "cell_type": "code",
   "execution_count": 1,
   "id": "dc9bb667",
   "metadata": {},
   "outputs": [],
   "source": [
    "%%capture --no-stderr setup\n",
    "\n",
    "!pip install pandas s3fs matplotlib ipywidgets\n",
    "!pip install boto3 --upgrade\n",
    "\n",
    "%reload_ext autoreload"
   ]
  },
  {
   "cell_type": "markdown",
   "id": "f5116011",
   "metadata": {},
   "source": [
    "#### Setup Imports"
   ]
  },
  {
   "cell_type": "code",
   "execution_count": 21,
   "id": "0706ddaa",
   "metadata": {},
   "outputs": [],
   "source": [
    "import sys\n",
    "import os\n",
    "import glob \n",
    "#sys.path.insert( 0, os.path.abspath(\"../../common\") )\n",
    "\n",
    "import json\n",
    "from util import * #.fcst_utils import *\n",
    "import boto3\n",
    "import s3fs\n",
    "import pandas as pd"
   ]
  },
  {
   "cell_type": "markdown",
   "id": "0b87f22c",
   "metadata": {},
   "source": [
    "#### Setup IAM Role used by Amazon Forecast to access your data"
   ]
  },
  {
   "cell_type": "code",
   "execution_count": 2,
   "id": "9bd4a7b2",
   "metadata": {},
   "outputs": [],
   "source": [
    "#role was manually setup in AWS console, with AmazonS3FullAccess\n",
    "role_arn = 'arn:aws:iam::054619787751:role/my-forecast-role'"
   ]
  },
  {
   "cell_type": "markdown",
   "id": "b9c8b4a2",
   "metadata": {},
   "source": [
    "#### Create an instance of AWS SDK client for Amazon Forecast"
   ]
  },
  {
   "cell_type": "code",
   "execution_count": 3,
   "id": "beb45a23",
   "metadata": {},
   "outputs": [],
   "source": [
    "region = 'us-east-1'\n",
    "session = boto3.Session(region_name=region) \n",
    "forecast = session.client(service_name='forecast')\n",
    "forecastquery = session.client(service_name='forecastquery')\n",
    "\n",
    "# Checking to make sure we can communicate with Amazon Forecast\n",
    "assert forecast.list_predictors()"
   ]
  },
  {
   "cell_type": "markdown",
   "id": "108603fa",
   "metadata": {},
   "source": [
    "## Step 1: Import your data. <a class=\"anchor\" id=\"import\"></a>\n",
    "\n",
    "In this step, we will create a **Dataset** and **Import** the Taiwan stock dataset from S3 to Amazon Forecast. To train a Predictor we will need a **DatasetGroup** that groups the input **Datasets**. So, we will end this step by creating a **DatasetGroup** with the imported **Dataset**."
   ]
  },
  {
   "cell_type": "code",
   "execution_count": 4,
   "id": "7409b63b",
   "metadata": {},
   "outputs": [],
   "source": [
    "s3 = boto3.Session().resource('s3')\n",
    "bucket_name = \"forecast-exp-1111\""
   ]
  },
  {
   "cell_type": "code",
   "execution_count": 6,
   "id": "a0cdc85c",
   "metadata": {},
   "outputs": [],
   "source": [
    "keys=[]\n",
    "files = glob.glob(os.path.join(os.getcwd(), \"forecast_import\", \"*\"))\n",
    "for file in files:\n",
    "    keys.append(r\"forecast_import/\"+os.path.split(file)[1])"
   ]
  },
  {
   "cell_type": "code",
   "execution_count": 7,
   "id": "d7ee5555",
   "metadata": {},
   "outputs": [
    {
     "data": {
      "text/plain": [
       "['forecast_import/target_wl.parquet']"
      ]
     },
     "execution_count": 7,
     "metadata": {},
     "output_type": "execute_result"
    }
   ],
   "source": [
    "keys"
   ]
  },
  {
   "cell_type": "code",
   "execution_count": 16,
   "id": "541ccca0",
   "metadata": {},
   "outputs": [
    {
     "name": "stdout",
     "output_type": "stream",
     "text": [
      "\n",
      "Done, the dataset is uploaded to S3 at s3://forecast-exp-1111/forecast_import/target_wl.parquet.\n"
     ]
    }
   ],
   "source": [
    "for key in keys:\n",
    "    s3.Bucket(bucket_name).Object(key).upload_file(key)\n",
    "    ts_s3_path = f\"s3://{bucket_name}/{key}\"\n",
    "\n",
    "print(f\"\\nDone, the dataset is uploaded to S3 at {ts_s3_path}.\")"
   ]
  },
  {
   "cell_type": "markdown",
   "id": "5834009e",
   "metadata": {},
   "source": [
    "#### Creating the Dataset"
   ]
  },
  {
   "cell_type": "code",
   "execution_count": null,
   "id": "c03281e7",
   "metadata": {},
   "outputs": [],
   "source": [
    "#ONLY NEED TO RUN THIS ONCE. SKIP TO NEXT CELL IF CREATED PREVIOUSLY.\n",
    "DATASET_FREQUENCY = \"D\" # H for hourly.\n",
    "TS_DATASET_NAME = \"WATCHLIST_TS\"\n",
    "TS_SCHEMA = {\n",
    "   \"Attributes\":[\n",
    "      {\n",
    "         \"AttributeName\":\"item_id\",\n",
    "         \"AttributeType\":\"string\"\n",
    "      },\n",
    "      {\n",
    "         \"AttributeName\":\"timestamp\",\n",
    "         \"AttributeType\":\"timestamp\"\n",
    "      },\n",
    "      \n",
    "      {\n",
    "         \"AttributeName\":\"target_value\",\n",
    "         \"AttributeType\":\"integer\"\n",
    "      }\n",
    "   ]\n",
    "}\n",
    "\n",
    "create_dataset_response = forecast.create_dataset(Domain=\"CUSTOM\",\n",
    "                                                  DatasetType='TARGET_TIME_SERIES',\n",
    "                                                  DatasetName=TS_DATASET_NAME,\n",
    "                                                  DataFrequency=DATASET_FREQUENCY,\n",
    "                                                  Schema=TS_SCHEMA)\n",
    "\n",
    "ts_dataset_arn = create_dataset_response['DatasetArn']\n",
    "describe_dataset_response = forecast.describe_dataset(DatasetArn=ts_dataset_arn)\n",
    "\n",
    "print(f\"The Dataset with ARN {ts_dataset_arn} is now {describe_dataset_response['Status']}\")"
   ]
  },
  {
   "cell_type": "code",
   "execution_count": 6,
   "id": "e6eac11c",
   "metadata": {},
   "outputs": [],
   "source": [
    "#ONLY RUN IF YOU HAVE ALREADY RUN THE ABOVE CELL\n",
    "#Obtained arn from error message when running above cell after already created\n",
    "ts_dataset_arn = 'arn:aws:forecast:us-east-1:054619787751:dataset/WATCHLIST_TS'"
   ]
  },
  {
   "cell_type": "markdown",
   "id": "d2b03ea9",
   "metadata": {},
   "source": [
    "#### Importing the Dataset"
   ]
  },
  {
   "cell_type": "code",
   "execution_count": null,
   "id": "e2d9a87f",
   "metadata": {},
   "outputs": [
    {
     "name": "stdout",
     "output_type": "stream",
     "text": [
      "Waiting for Dataset Import Job with ARN arn:aws:forecast:us-east-1:054619787751:dataset-import-job/WATCHLIST_TS/PREFUNDING_TTS_IMPORT to become ACTIVE. This process could take 5-10 minutes.\n",
      "\n",
      "Current Status:\n",
      "CREATE_PENDING .\n",
      "CREATE_IN_PROGRESS ............................................................"
     ]
    }
   ],
   "source": [
    "#ONLY NEED TO RUN THIS ONCE. SKIP TO NEXT CELL IF CREATED PREVIOUSLY.\n",
    "TIMESTAMP_FORMAT = \"yyyy-MM-dd hh:mm:ss\"\n",
    "TS_IMPORT_JOB_NAME = \"PREFUNDING_TTS_IMPORT\"\n",
    "TIMEZONE = \"EST\"\n",
    "\n",
    "ts_dataset_import_job_response = \\\n",
    "    forecast.create_dataset_import_job(DatasetImportJobName=TS_IMPORT_JOB_NAME,\n",
    "                                       DatasetArn=ts_dataset_arn,\n",
    "                                       DataSource= {\n",
    "                                         \"S3Config\" : {\n",
    "                                             \"Path\": ts_s3_path,\n",
    "                                             \"RoleArn\": role_arn\n",
    "                                         } \n",
    "                                       },\n",
    "                                       Format=\"PARQUET\",\n",
    "                                       TimestampFormat=TIMESTAMP_FORMAT,\n",
    "                                       TimeZone = TIMEZONE)\n",
    "\n",
    "ts_dataset_import_job_arn = ts_dataset_import_job_response['DatasetImportJobArn']\n",
    "describe_dataset_import_job_response = forecast.describe_dataset_import_job(DatasetImportJobArn=ts_dataset_import_job_arn)\n",
    "\n",
    "print(f\"Waiting for Dataset Import Job with ARN {ts_dataset_import_job_arn} to become ACTIVE. This process could take 5-10 minutes.\\n\\nCurrent Status:\")\n",
    "\n",
    "status = util.wait(lambda: forecast.describe_dataset_import_job(DatasetImportJobArn=ts_dataset_import_job_arn))\n",
    "\n",
    "describe_dataset_import_job_response = forecast.describe_dataset_import_job(DatasetImportJobArn=ts_dataset_import_job_arn)\n",
    "print(f\"\\n\\nThe Dataset Import Job with ARN {ts_dataset_import_job_arn} is now {describe_dataset_import_job_response['Status']}.\")"
   ]
  },
  {
   "cell_type": "code",
   "execution_count": 8,
   "id": "0742c30d",
   "metadata": {},
   "outputs": [],
   "source": [
    "#ONLY RUN IF YOU HAVE ALREADY RUN THE ABOVE CELL\n",
    "# target dataset (watchlist) imported at:\n",
    "ts_dataset_import_job_arn = 'arn:aws:forecast:us-east-1:054619787751:dataset-import-job/WATCHLIST_TS/PREFUNDING_TTS_IMPORT'"
   ]
  },
  {
   "cell_type": "markdown",
   "id": "9856ecf1",
   "metadata": {},
   "source": [
    "#### Creating a DatasetGroup"
   ]
  },
  {
   "cell_type": "code",
   "execution_count": 99,
   "id": "e3e74492",
   "metadata": {},
   "outputs": [
    {
     "name": "stdout",
     "output_type": "stream",
     "text": [
      "The DatasetGroup with ARN arn:aws:forecast:us-east-1:054619787751:dataset-group/TAIWAN_PREFUNDING is now ACTIVE.\n"
     ]
    }
   ],
   "source": [
    "#ONLY NEED TO RUN THIS ONCE. SKIP TO NEXT CELL IF CREATED PREVIOUSLY.\n",
    "DATASET_GROUP_NAME = \"TAIWAN_PREFUNDING\"\n",
    "DATASET_ARNS = [ts_dataset_arn]\n",
    "\n",
    "create_dataset_group_response = \\\n",
    "    forecast.create_dataset_group(Domain=\"CUSTOM\",\n",
    "                                  DatasetGroupName=DATASET_GROUP_NAME,\n",
    "                                  DatasetArns=DATASET_ARNS)\n",
    "\n",
    "dataset_group_arn = create_dataset_group_response['DatasetGroupArn']\n",
    "describe_dataset_group_response = forecast.describe_dataset_group(DatasetGroupArn=dataset_group_arn)\n",
    "\n",
    "print(f\"The DatasetGroup with ARN {dataset_group_arn} is now {describe_dataset_group_response['Status']}.\")"
   ]
  },
  {
   "cell_type": "code",
   "execution_count": 9,
   "id": "7618ad9f",
   "metadata": {},
   "outputs": [],
   "source": [
    "#ONLY RUN IF YOU HAVE ALREADY RUN THE ABOVE CELL\n",
    "#Obtained arn original cell execution above\n",
    "dataset_group_arn = 'arn:aws:forecast:us-east-1:054619787751:dataset-group/TAIWAN_PREFUNDING'"
   ]
  },
  {
   "cell_type": "markdown",
   "id": "17093e24",
   "metadata": {},
   "source": [
    "## Step 2: Train a predictor - Experiment 01 <a class=\"anchor\" id=\"predictor\"></a>\n",
    "\n",
    "In this step, we will create a **Predictor** using the **DatasetGroup** that was created above. After creating the predictor, we will review the accuracy obtained through the backtesting process to get a quantitative understanding of the performance of the predictor.\n",
    "\n",
    "This will be the baseline predictor and experiment which we will expand on later with related datasets."
   ]
  },
  {
   "cell_type": "code",
   "execution_count": null,
   "id": "c631b8eb",
   "metadata": {},
   "outputs": [
    {
     "name": "stdout",
     "output_type": "stream",
     "text": [
      "Waiting for Predictor with ARN arn:aws:forecast:us-east-1:054619787751:predictor/PREFUNDING_PREDICTOR_01_01GKW0Q4KG85PR41MRZXVXR7F5 to become ACTIVE. Depending on data size and predictor setting，it can take several hours to be ACTIVE.\n",
      "\n",
      "Current Status:\n",
      "CREATE_PENDING ..\n",
      "CREATE_IN_PROGRESS ................."
     ]
    }
   ],
   "source": [
    "#ONLY NEED TO RUN THIS ONCE. SKIP TO NEXT CELL IF CREATED PREVIOUSLY.\n",
    "PREDICTOR_NAME = \"PREFUNDING_PREDICTOR_01\"\n",
    "FORECAST_HORIZON = 1\n",
    "FORECAST_FREQUENCY = \"D\"\n",
    "#HOLIDAY_DATASET = [{\n",
    "#        'Name': 'holiday',\n",
    "#        'Configuration': {\n",
    "#        'CountryCode': ['TW']\n",
    "#    }\n",
    "#}]\n",
    "\n",
    "create_auto_predictor_response = \\\n",
    "    forecast.create_auto_predictor(PredictorName = PREDICTOR_NAME,\n",
    "                                   ForecastHorizon = FORECAST_HORIZON,\n",
    "                                   ForecastFrequency = FORECAST_FREQUENCY,\n",
    "                                   DataConfig = {\n",
    "                                       'DatasetGroupArn': dataset_group_arn\n",
    "                                       #,'AdditionalDatasets': HOLIDAY_DATASET\n",
    "                                        },\n",
    "                                   ExplainPredictor = True)\n",
    "\n",
    "predictor_arn = create_auto_predictor_response['PredictorArn']\n",
    "print(f\"Waiting for Predictor with ARN {predictor_arn} to become ACTIVE. Depending on data size and predictor setting，it can take several hours to be ACTIVE.\\n\\nCurrent Status:\")\n",
    "\n",
    "status = util.wait(lambda: forecast.describe_auto_predictor(PredictorArn=predictor_arn))\n",
    "\n",
    "describe_auto_predictor_response = forecast.describe_auto_predictor(PredictorArn=predictor_arn)\n",
    "print(f\"\\n\\nThe Predictor with ARN {predictor_arn} is now {describe_auto_predictor_response['Status']}.\")"
   ]
  },
  {
   "cell_type": "code",
   "execution_count": 5,
   "id": "387dc763",
   "metadata": {},
   "outputs": [],
   "source": [
    "#ONLY RUN IF YOU HAVE ALREADY RUN THE ABOVE CELL\n",
    "#Obtained arn original cell execution above\n",
    "predictor_arn = 'arn:aws:forecast:us-east-1:054619787751:predictor/PREFUNDING_PREDICTOR_01_01GKW0Q4KG85PR41MRZXVXR7F5'"
   ]
  },
  {
   "cell_type": "markdown",
   "id": "42a61766",
   "metadata": {},
   "source": [
    "#### Review accuracy metrics\n",
    "\n",
    "* **Weighted Quantile Loss (wQL)** metric measures the accuracy of a model at a specified quantile. It is particularly useful when there are different costs for underpredicting and overpredicting.\n",
    "\n",
    "* **Root Mean Square Error (RMSE)** uses the squared value of the residuals, which amplifies the impact of outliers. In use cases where only a few large mispredictions can be very costly, the RMSE is the more relevant metric.\n",
    "\n",
    "* **Weighted Absolute Percentage Error (WAPE)** is more robust to outliers than Root Mean Square Error (RMSE) because it uses the absolute error instead of the squared error.\n",
    "\n",
    "* **Mean Absolute Percentage Error (MAPE)** is useful for cases where values differ significantly between time points and outliers have a significant impact.\n",
    "\n",
    "* **Mean Absolute Scaled Error (MASE)** is ideal for datasets that are cyclical in nature or have seasonal properties."
   ]
  },
  {
   "cell_type": "code",
   "execution_count": 7,
   "id": "6d95f625",
   "metadata": {},
   "outputs": [
    {
     "name": "stdout",
     "output_type": "stream",
     "text": [
      "Weighted Quantile Loss (wQL): [\n",
      "  {\n",
      "    \"Quantile\": 0.9,\n",
      "    \"LossValue\": 0.13846153846153844\n",
      "  },\n",
      "  {\n",
      "    \"Quantile\": 0.5,\n",
      "    \"LossValue\": 0.38461538461538464\n",
      "  },\n",
      "  {\n",
      "    \"Quantile\": 0.1,\n",
      "    \"LossValue\": 0.10769230769230768\n",
      "  }\n",
      "]\n",
      "Root Mean Square Error (RMSE): 0.38682272190477407\n",
      "Weighted Absolute Percentage Error (WAPE): 0.4653846153846153\n",
      "Mean Absolute Percentage Error (MAPE): 0.051818181818181826\n",
      "Mean Absolute Scaled Error (MASE): 1e-130\n"
     ]
    }
   ],
   "source": [
    "get_accuracy_metrics_response = forecast.get_accuracy_metrics(PredictorArn=predictor_arn)\n",
    "wql = get_accuracy_metrics_response['PredictorEvaluationResults'][0]['TestWindows'][0]['Metrics']['WeightedQuantileLosses']\n",
    "accuracy_scores = get_accuracy_metrics_response['PredictorEvaluationResults'][0]['TestWindows'][0]['Metrics']['ErrorMetrics'][0]\n",
    "\n",
    "print(f\"Weighted Quantile Loss (wQL): {json.dumps(wql, indent=2)}\")\n",
    "\n",
    "print(f\"Root Mean Square Error (RMSE): {accuracy_scores['RMSE']}\")\n",
    "\n",
    "print(f\"Weighted Absolute Percentage Error (WAPE): {accuracy_scores['WAPE']}\")\n",
    "\n",
    "print(f\"Mean Absolute Percentage Error (MAPE): {accuracy_scores['MAPE']}\")\n",
    "\n",
    "print(f\"Mean Absolute Scaled Error (MASE): {accuracy_scores['MASE']}\")"
   ]
  },
  {
   "cell_type": "markdown",
   "id": "5906ccb9",
   "metadata": {},
   "source": [
    "#### Reviewing forecast\n",
    "I generated a forecast using the AWS console but noticed that the full universe of stocks wasn't generated by the forecast. See below:"
   ]
  },
  {
   "cell_type": "code",
   "execution_count": 15,
   "id": "348c55ec",
   "metadata": {
    "collapsed": true,
    "jupyter": {
     "outputs_hidden": true
    }
   },
   "outputs": [
    {
     "name": "stdout",
     "output_type": "stream",
     "text": [
      "download: s3://forecast-exp-1111/my_forecast_exp01/_SUCCESS to exp_01/forecast_01/_SUCCESS\n",
      "download: s3://forecast-exp-1111/my_forecast_exp01/my_forecast_exp1_01_export_2022-12-10T22-22-10Z_part1.csv to exp_01/forecast_01/my_forecast_exp1_01_export_2022-12-10T22-22-10Z_part1.csv\n",
      "download: s3://forecast-exp-1111/my_forecast_exp01/my_forecast_exp1_01_export_2022-12-10T22-22-10Z_part0.csv to exp_01/forecast_01/my_forecast_exp1_01_export_2022-12-10T22-22-10Z_part0.csv\n",
      "download: s3://forecast-exp-1111/my_forecast_exp01/_CHECK to exp_01/forecast_01/_CHECK\n",
      "download: s3://forecast-exp-1111/my_forecast_exp01/my_forecast_exp1_01_export_2022-12-10T22-22-10Z_part3.csv to exp_01/forecast_01/my_forecast_exp1_01_export_2022-12-10T22-22-10Z_part3.csv\n",
      "download: s3://forecast-exp-1111/my_forecast_exp01/my_forecast_exp1_01_export_2022-12-10T22-22-10Z_part2.csv to exp_01/forecast_01/my_forecast_exp1_01_export_2022-12-10T22-22-10Z_part2.csv\n"
     ]
    }
   ],
   "source": [
    "!aws s3 sync s3://forecast-exp-1111/my_forecast_exp01/ ./exp_01/forecast_01"
   ]
  },
  {
   "cell_type": "code",
   "execution_count": 23,
   "id": "e165043b",
   "metadata": {},
   "outputs": [],
   "source": [
    "dfs = [pd.read_csv(f) for f in glob.glob(os.path.join(os.getcwd(),\"exp_01\",\"forecast_01\",\"*.csv\"))]"
   ]
  },
  {
   "cell_type": "code",
   "execution_count": 25,
   "id": "9f430dba",
   "metadata": {},
   "outputs": [],
   "source": [
    "forecasts_01 = pd.concat(dfs)"
   ]
  },
  {
   "cell_type": "code",
   "execution_count": 27,
   "id": "c5b1a6e0",
   "metadata": {},
   "outputs": [
    {
     "data": {
      "text/html": [
       "<div>\n",
       "<style scoped>\n",
       "    .dataframe tbody tr th:only-of-type {\n",
       "        vertical-align: middle;\n",
       "    }\n",
       "\n",
       "    .dataframe tbody tr th {\n",
       "        vertical-align: top;\n",
       "    }\n",
       "\n",
       "    .dataframe thead th {\n",
       "        text-align: right;\n",
       "    }\n",
       "</style>\n",
       "<table border=\"1\" class=\"dataframe\">\n",
       "  <thead>\n",
       "    <tr style=\"text-align: right;\">\n",
       "      <th></th>\n",
       "      <th>item_id</th>\n",
       "      <th>date</th>\n",
       "      <th>p50</th>\n",
       "      <th>p90</th>\n",
       "      <th>p95</th>\n",
       "    </tr>\n",
       "  </thead>\n",
       "  <tbody>\n",
       "    <tr>\n",
       "      <th>3</th>\n",
       "      <td>1213</td>\n",
       "      <td>2022-11-01T00:00:00Z</td>\n",
       "      <td>1.0</td>\n",
       "      <td>1.0</td>\n",
       "      <td>1.0</td>\n",
       "    </tr>\n",
       "    <tr>\n",
       "      <th>2</th>\n",
       "      <td>1418</td>\n",
       "      <td>2022-11-01T00:00:00Z</td>\n",
       "      <td>0.0</td>\n",
       "      <td>1.0</td>\n",
       "      <td>1.0</td>\n",
       "    </tr>\n",
       "    <tr>\n",
       "      <th>1</th>\n",
       "      <td>1472</td>\n",
       "      <td>2022-11-01T00:00:00Z</td>\n",
       "      <td>1.0</td>\n",
       "      <td>1.0</td>\n",
       "      <td>1.0</td>\n",
       "    </tr>\n",
       "    <tr>\n",
       "      <th>5</th>\n",
       "      <td>1512</td>\n",
       "      <td>2022-11-01T00:00:00Z</td>\n",
       "      <td>1.0</td>\n",
       "      <td>1.0</td>\n",
       "      <td>1.0</td>\n",
       "    </tr>\n",
       "    <tr>\n",
       "      <th>0</th>\n",
       "      <td>1538</td>\n",
       "      <td>2022-11-01T00:00:00Z</td>\n",
       "      <td>1.0</td>\n",
       "      <td>1.0</td>\n",
       "      <td>1.0</td>\n",
       "    </tr>\n",
       "    <tr>\n",
       "      <th>1</th>\n",
       "      <td>2025</td>\n",
       "      <td>2022-11-01T00:00:00Z</td>\n",
       "      <td>1.0</td>\n",
       "      <td>1.0</td>\n",
       "      <td>1.0</td>\n",
       "    </tr>\n",
       "    <tr>\n",
       "      <th>2</th>\n",
       "      <td>2321</td>\n",
       "      <td>2022-11-01T00:00:00Z</td>\n",
       "      <td>1.0</td>\n",
       "      <td>1.0</td>\n",
       "      <td>1.0</td>\n",
       "    </tr>\n",
       "    <tr>\n",
       "      <th>0</th>\n",
       "      <td>2364</td>\n",
       "      <td>2022-11-01T00:00:00Z</td>\n",
       "      <td>0.0</td>\n",
       "      <td>1.0</td>\n",
       "      <td>1.0</td>\n",
       "    </tr>\n",
       "    <tr>\n",
       "      <th>2</th>\n",
       "      <td>2443</td>\n",
       "      <td>2022-11-01T00:00:00Z</td>\n",
       "      <td>1.0</td>\n",
       "      <td>1.0</td>\n",
       "      <td>1.0</td>\n",
       "    </tr>\n",
       "    <tr>\n",
       "      <th>5</th>\n",
       "      <td>2841</td>\n",
       "      <td>2022-11-01T00:00:00Z</td>\n",
       "      <td>0.0</td>\n",
       "      <td>1.0</td>\n",
       "      <td>1.0</td>\n",
       "    </tr>\n",
       "    <tr>\n",
       "      <th>4</th>\n",
       "      <td>3018</td>\n",
       "      <td>2022-11-01T00:00:00Z</td>\n",
       "      <td>1.0</td>\n",
       "      <td>1.0</td>\n",
       "      <td>1.0</td>\n",
       "    </tr>\n",
       "    <tr>\n",
       "      <th>0</th>\n",
       "      <td>3043</td>\n",
       "      <td>2022-11-01T00:00:00Z</td>\n",
       "      <td>1.0</td>\n",
       "      <td>1.0</td>\n",
       "      <td>1.0</td>\n",
       "    </tr>\n",
       "    <tr>\n",
       "      <th>3</th>\n",
       "      <td>3229</td>\n",
       "      <td>2022-11-01T00:00:00Z</td>\n",
       "      <td>1.0</td>\n",
       "      <td>1.0</td>\n",
       "      <td>1.0</td>\n",
       "    </tr>\n",
       "    <tr>\n",
       "      <th>4</th>\n",
       "      <td>3383</td>\n",
       "      <td>2022-11-01T00:00:00Z</td>\n",
       "      <td>1.0</td>\n",
       "      <td>1.0</td>\n",
       "      <td>1.0</td>\n",
       "    </tr>\n",
       "    <tr>\n",
       "      <th>0</th>\n",
       "      <td>3494</td>\n",
       "      <td>2022-11-01T00:00:00Z</td>\n",
       "      <td>0.0</td>\n",
       "      <td>1.0</td>\n",
       "      <td>1.0</td>\n",
       "    </tr>\n",
       "    <tr>\n",
       "      <th>3</th>\n",
       "      <td>3536</td>\n",
       "      <td>2022-11-01T00:00:00Z</td>\n",
       "      <td>1.0</td>\n",
       "      <td>1.0</td>\n",
       "      <td>1.0</td>\n",
       "    </tr>\n",
       "    <tr>\n",
       "      <th>1</th>\n",
       "      <td>4414</td>\n",
       "      <td>2022-11-01T00:00:00Z</td>\n",
       "      <td>0.0</td>\n",
       "      <td>1.0</td>\n",
       "      <td>1.0</td>\n",
       "    </tr>\n",
       "    <tr>\n",
       "      <th>4</th>\n",
       "      <td>6225</td>\n",
       "      <td>2022-11-01T00:00:00Z</td>\n",
       "      <td>1.0</td>\n",
       "      <td>1.0</td>\n",
       "      <td>1.0</td>\n",
       "    </tr>\n",
       "    <tr>\n",
       "      <th>2</th>\n",
       "      <td>6289</td>\n",
       "      <td>2022-11-01T00:00:00Z</td>\n",
       "      <td>1.0</td>\n",
       "      <td>1.0</td>\n",
       "      <td>1.0</td>\n",
       "    </tr>\n",
       "    <tr>\n",
       "      <th>4</th>\n",
       "      <td>8101</td>\n",
       "      <td>2022-11-01T00:00:00Z</td>\n",
       "      <td>1.0</td>\n",
       "      <td>1.0</td>\n",
       "      <td>1.0</td>\n",
       "    </tr>\n",
       "    <tr>\n",
       "      <th>1</th>\n",
       "      <td>9110</td>\n",
       "      <td>2022-11-01T00:00:00Z</td>\n",
       "      <td>1.0</td>\n",
       "      <td>1.0</td>\n",
       "      <td>1.0</td>\n",
       "    </tr>\n",
       "    <tr>\n",
       "      <th>3</th>\n",
       "      <td>9928</td>\n",
       "      <td>2022-11-01T00:00:00Z</td>\n",
       "      <td>1.0</td>\n",
       "      <td>1.0</td>\n",
       "      <td>1.0</td>\n",
       "    </tr>\n",
       "  </tbody>\n",
       "</table>\n",
       "</div>"
      ],
      "text/plain": [
       "   item_id                  date  p50  p90  p95\n",
       "3     1213  2022-11-01T00:00:00Z  1.0  1.0  1.0\n",
       "2     1418  2022-11-01T00:00:00Z  0.0  1.0  1.0\n",
       "1     1472  2022-11-01T00:00:00Z  1.0  1.0  1.0\n",
       "5     1512  2022-11-01T00:00:00Z  1.0  1.0  1.0\n",
       "0     1538  2022-11-01T00:00:00Z  1.0  1.0  1.0\n",
       "1     2025  2022-11-01T00:00:00Z  1.0  1.0  1.0\n",
       "2     2321  2022-11-01T00:00:00Z  1.0  1.0  1.0\n",
       "0     2364  2022-11-01T00:00:00Z  0.0  1.0  1.0\n",
       "2     2443  2022-11-01T00:00:00Z  1.0  1.0  1.0\n",
       "5     2841  2022-11-01T00:00:00Z  0.0  1.0  1.0\n",
       "4     3018  2022-11-01T00:00:00Z  1.0  1.0  1.0\n",
       "0     3043  2022-11-01T00:00:00Z  1.0  1.0  1.0\n",
       "3     3229  2022-11-01T00:00:00Z  1.0  1.0  1.0\n",
       "4     3383  2022-11-01T00:00:00Z  1.0  1.0  1.0\n",
       "0     3494  2022-11-01T00:00:00Z  0.0  1.0  1.0\n",
       "3     3536  2022-11-01T00:00:00Z  1.0  1.0  1.0\n",
       "1     4414  2022-11-01T00:00:00Z  0.0  1.0  1.0\n",
       "4     6225  2022-11-01T00:00:00Z  1.0  1.0  1.0\n",
       "2     6289  2022-11-01T00:00:00Z  1.0  1.0  1.0\n",
       "4     8101  2022-11-01T00:00:00Z  1.0  1.0  1.0\n",
       "1     9110  2022-11-01T00:00:00Z  1.0  1.0  1.0\n",
       "3     9928  2022-11-01T00:00:00Z  1.0  1.0  1.0"
      ]
     },
     "execution_count": 27,
     "metadata": {},
     "output_type": "execute_result"
    }
   ],
   "source": [
    "forecasts_01.sort_values('item_id')"
   ]
  },
  {
   "cell_type": "code",
   "execution_count": 68,
   "id": "fbb31198",
   "metadata": {},
   "outputs": [],
   "source": [
    "#download backtest exports\n",
    "#!aws s3 sync s3://forecast-exp-1111/backtest_exports/ ./backtest_exports"
   ]
  },
  {
   "cell_type": "code",
   "execution_count": 69,
   "id": "3675e25a",
   "metadata": {},
   "outputs": [],
   "source": [
    "#accuracy_metric_values_files = glob.glob(\n",
    "#                                    os.path.join(os.getcwd(),\n",
    "#                                                 'backtest_exports', \n",
    "#                                                 'accuracy-metrics-values',\n",
    "#                                                 '*.csv'))"
   ]
  },
  {
   "cell_type": "code",
   "execution_count": 70,
   "id": "db5d62c9",
   "metadata": {},
   "outputs": [],
   "source": [
    "#accuracy_metric_values_files"
   ]
  },
  {
   "cell_type": "code",
   "execution_count": 71,
   "id": "b34fbb94",
   "metadata": {},
   "outputs": [],
   "source": [
    "#accuracy_metric_values = [pd.read_csv(f,sep=',') for f in accuracy_metric_values_files]"
   ]
  },
  {
   "cell_type": "code",
   "execution_count": 72,
   "id": "487d3cf3",
   "metadata": {},
   "outputs": [],
   "source": [
    "#acc_01 = pd.concat(accuracy_metric_values, axis=0).sort_values(by=['item_id','backtestwindow_end_time'])"
   ]
  },
  {
   "cell_type": "code",
   "execution_count": 73,
   "id": "0797585c",
   "metadata": {},
   "outputs": [],
   "source": [
    "#acc_01[acc_01['backtest_window']=='Summary']"
   ]
  },
  {
   "cell_type": "code",
   "execution_count": 4,
   "id": "11c5a331",
   "metadata": {
    "jupyter": {
     "source_hidden": true
    }
   },
   "outputs": [],
   "source": [
    "msci_tw = ['2330',\n",
    "'2317',\n",
    "'2454',\n",
    "'2308',\n",
    "'2303',\n",
    "'2881',\n",
    "'2412',\n",
    "'2891',\n",
    "'1301',\n",
    "'2882',\n",
    "'1303',\n",
    "'2886',\n",
    "'2002',\n",
    "'3711',\n",
    "'1216',\n",
    "'2884',\n",
    "'5871',\n",
    "'2892',\n",
    "'5880',\n",
    "'1326',\n",
    "'2885',\n",
    "'3008',\n",
    "'1101',\n",
    "'2880',\n",
    "'2883',\n",
    "'2382',\n",
    "'2357',\n",
    "'3037',\n",
    "'2207',\n",
    "'5876',\n",
    "'2890',\n",
    "'3034',\n",
    "'2327',\n",
    "'3045',\n",
    "'2887',\n",
    "'2603',\n",
    "'2912',\n",
    "'6415',\n",
    "'8069',\n",
    "'2395',\n",
    "'2379',\n",
    "'1590',\n",
    "'2301',\n",
    "'4938',\n",
    "'2345',\n",
    "'1605',\n",
    "'2888',\n",
    "'6409',\n",
    "'2474',\n",
    "'2609',\n",
    "'3481',\n",
    "'4904',\n",
    "'1402',\n",
    "'6446',\n",
    "'2409',\n",
    "'6488',\n",
    "'6770',\n",
    "'3529',\n",
    "'1102',\n",
    "'6505',\n",
    "'1476',\n",
    "'2324',\n",
    "'9910',\n",
    "'2801',\n",
    "'2377',\n",
    "'2347',\n",
    "'6669',\n",
    "'2834',\n",
    "'9945',\n",
    "'3702',\n",
    "'4958',\n",
    "'5347',\n",
    "'9904',\n",
    "'2618',\n",
    "'9921',\n",
    "'2353',\n",
    "'2408',\n",
    "'8046',\n",
    "'4966',\n",
    "'2105',\n",
    "'2344',\n",
    "'2356',\n",
    "'2610',\n",
    "'2633',\n",
    "'3105',\n",
    "'2615',\n",
    "'8464',\n",
    "'8454',]"
   ]
  },
  {
   "cell_type": "code",
   "execution_count": 10,
   "id": "3cd3a6ab",
   "metadata": {},
   "outputs": [],
   "source": [
    "msci_tw_df = pd.Series(msci_tw,name='item_id')"
   ]
  },
  {
   "cell_type": "code",
   "execution_count": 11,
   "id": "7418940c",
   "metadata": {},
   "outputs": [
    {
     "data": {
      "text/plain": [
       "0     2330\n",
       "1     2317\n",
       "2     2454\n",
       "3     2308\n",
       "4     2303\n",
       "      ... \n",
       "83    2633\n",
       "84    3105\n",
       "85    2615\n",
       "86    8464\n",
       "87    8454\n",
       "Name: item_id, Length: 88, dtype: object"
      ]
     },
     "execution_count": 11,
     "metadata": {},
     "output_type": "execute_result"
    }
   ],
   "source": [
    "msci_tw_df"
   ]
  },
  {
   "cell_type": "code",
   "execution_count": 12,
   "id": "7e6c0907",
   "metadata": {},
   "outputs": [],
   "source": [
    "msci_tw_df.to_csv('msci_tw_df.csv',index=False)"
   ]
  },
  {
   "cell_type": "code",
   "execution_count": 13,
   "id": "3678caca",
   "metadata": {},
   "outputs": [
    {
     "name": "stdout",
     "output_type": "stream",
     "text": [
      "upload: ./msci_tw_df.csv to s3://forecast-exp-1111/msci_tw_df.csv \n"
     ]
    }
   ],
   "source": [
    "!aws s3 cp 'msci_tw_df.csv' s3://forecast-exp-1111/"
   ]
  }
 ],
 "metadata": {
  "kernelspec": {
   "display_name": "conda_python3",
   "language": "python",
   "name": "conda_python3"
  },
  "language_info": {
   "codemirror_mode": {
    "name": "ipython",
    "version": 3
   },
   "file_extension": ".py",
   "mimetype": "text/x-python",
   "name": "python",
   "nbconvert_exporter": "python",
   "pygments_lexer": "ipython3",
   "version": "3.8.12"
  }
 },
 "nbformat": 4,
 "nbformat_minor": 5
}
