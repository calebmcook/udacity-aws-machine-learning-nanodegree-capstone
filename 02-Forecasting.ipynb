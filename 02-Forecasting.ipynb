{
 "cells": [
  {
   "cell_type": "markdown",
   "id": "69c7d74b",
   "metadata": {},
   "source": [
    "# AWS Machine Learning Nandoegree Capstone Project\n",
    "# Forecasting with Amazon Forecast"
   ]
  },
  {
   "cell_type": "markdown",
   "id": "cf847b53",
   "metadata": {},
   "source": [
    "## Note! These steps were taken from the below reference Forecast walkthrough: \n",
    "https://github.com/aws-samples/amazon-forecast-samples/blob/main/notebooks/basic/Getting_Started/Amazon_Forecast_Quick_Start_Guide.ipynb\n",
    "https://github.com/aws-samples/amazon-forecast-samples/blob/main/notebooks/common/util/fcst_utils.py"
   ]
  },
  {
   "cell_type": "markdown",
   "id": "2691043a",
   "metadata": {},
   "source": [
    "#### Setup Notebook Environment"
   ]
  },
  {
   "cell_type": "code",
   "execution_count": 1,
   "id": "c646f94b",
   "metadata": {},
   "outputs": [],
   "source": [
    "%%capture --no-stderr setup\n",
    "\n",
    "!pip install pandas s3fs matplotlib ipywidgets\n",
    "!pip install boto3 --upgrade\n",
    "\n",
    "%reload_ext autoreload"
   ]
  },
  {
   "cell_type": "markdown",
   "id": "2535958f",
   "metadata": {},
   "source": [
    "#### Setup Imports"
   ]
  },
  {
   "cell_type": "code",
   "execution_count": 1,
   "id": "867c7a46",
   "metadata": {},
   "outputs": [],
   "source": [
    "import sys\n",
    "import os\n",
    "import glob \n",
    "#sys.path.insert( 0, os.path.abspath(\"../../common\") )\n",
    "\n",
    "import json\n",
    "from util import * #.fcst_utils import *\n",
    "import boto3\n",
    "import s3fs\n",
    "import pandas as pd"
   ]
  },
  {
   "cell_type": "markdown",
   "id": "bb88fd77",
   "metadata": {},
   "source": [
    "#### Setup IAM Role used by Amazon Forecast to access your data"
   ]
  },
  {
   "cell_type": "code",
   "execution_count": 2,
   "id": "55e0931f",
   "metadata": {},
   "outputs": [],
   "source": [
    "#role was manually setup in AWS console, with AmazonS3FullAccess\n",
    "role_arn = 'arn:aws:iam::054619787751:role/my-forecast-role'"
   ]
  },
  {
   "cell_type": "markdown",
   "id": "22bb867c",
   "metadata": {},
   "source": [
    "#### Create an instance of AWS SDK client for Amazon Forecast"
   ]
  },
  {
   "cell_type": "code",
   "execution_count": 3,
   "id": "a3ac93be",
   "metadata": {},
   "outputs": [],
   "source": [
    "region = 'us-east-1'\n",
    "session = boto3.Session(region_name=region) \n",
    "forecast = session.client(service_name='forecast')\n",
    "forecastquery = session.client(service_name='forecastquery')\n",
    "\n",
    "# Checking to make sure we can communicate with Amazon Forecast\n",
    "assert forecast.list_predictors()"
   ]
  },
  {
   "cell_type": "markdown",
   "id": "099f8816",
   "metadata": {},
   "source": [
    "## Step 1: Import your data. <a class=\"anchor\" id=\"import\"></a>\n",
    "\n",
    "In this step, we will create a **Dataset** and **Import** the Taiwan stock dataset from S3 to Amazon Forecast. To train a Predictor we will need a **DatasetGroup** that groups the input **Datasets**. So, we will end this step by creating a **DatasetGroup** with the imported **Dataset**."
   ]
  },
  {
   "cell_type": "code",
   "execution_count": 4,
   "id": "78ec2dcf",
   "metadata": {},
   "outputs": [],
   "source": [
    "s3 = boto3.Session().resource('s3')\n",
    "bucket_name = \"forecast-exp-1111\""
   ]
  },
  {
   "cell_type": "code",
   "execution_count": 6,
   "id": "4dc1fc29",
   "metadata": {},
   "outputs": [],
   "source": [
    "keys=[]\n",
    "files = glob.glob(os.path.join(os.getcwd(), \"forecast_import\", \"*\"))\n",
    "for file in files:\n",
    "    keys.append(r\"forecast_import/\"+os.path.split(file)[1])"
   ]
  },
  {
   "cell_type": "code",
   "execution_count": 7,
   "id": "3187c26f",
   "metadata": {},
   "outputs": [
    {
     "data": {
      "text/plain": [
       "['forecast_import/target_wl.parquet']"
      ]
     },
     "execution_count": 7,
     "metadata": {},
     "output_type": "execute_result"
    }
   ],
   "source": [
    "keys"
   ]
  },
  {
   "cell_type": "code",
   "execution_count": 16,
   "id": "8945f875",
   "metadata": {},
   "outputs": [
    {
     "name": "stdout",
     "output_type": "stream",
     "text": [
      "\n",
      "Done, the dataset is uploaded to S3 at s3://forecast-exp-1111/forecast_import/target_wl.parquet.\n"
     ]
    }
   ],
   "source": [
    "for key in keys:\n",
    "    s3.Bucket(bucket_name).Object(key).upload_file(key)\n",
    "    ts_s3_path = f\"s3://{bucket_name}/{key}\"\n",
    "\n",
    "print(f\"\\nDone, the dataset is uploaded to S3 at {ts_s3_path}.\")"
   ]
  },
  {
   "cell_type": "markdown",
   "id": "1244fb02",
   "metadata": {},
   "source": [
    "#### Creating the Dataset"
   ]
  },
  {
   "cell_type": "code",
   "execution_count": null,
   "id": "a7f3a752",
   "metadata": {},
   "outputs": [],
   "source": [
    "#ONLY NEED TO RUN THIS ONCE. SKIP TO NEXT CELL IF CREATED PREVIOUSLY.\n",
    "DATASET_FREQUENCY = \"D\" # H for hourly.\n",
    "TS_DATASET_NAME = \"WATCHLIST_TS\"\n",
    "TS_SCHEMA = {\n",
    "   \"Attributes\":[\n",
    "      {\n",
    "         \"AttributeName\":\"item_id\",\n",
    "         \"AttributeType\":\"string\"\n",
    "      },\n",
    "      {\n",
    "         \"AttributeName\":\"timestamp\",\n",
    "         \"AttributeType\":\"timestamp\"\n",
    "      },\n",
    "      \n",
    "      {\n",
    "         \"AttributeName\":\"target_value\",\n",
    "         \"AttributeType\":\"integer\"\n",
    "      }\n",
    "   ]\n",
    "}\n",
    "\n",
    "create_dataset_response = forecast.create_dataset(Domain=\"CUSTOM\",\n",
    "                                                  DatasetType='TARGET_TIME_SERIES',\n",
    "                                                  DatasetName=TS_DATASET_NAME,\n",
    "                                                  DataFrequency=DATASET_FREQUENCY,\n",
    "                                                  Schema=TS_SCHEMA)\n",
    "\n",
    "ts_dataset_arn = create_dataset_response['DatasetArn']\n",
    "describe_dataset_response = forecast.describe_dataset(DatasetArn=ts_dataset_arn)\n",
    "\n",
    "print(f\"The Dataset with ARN {ts_dataset_arn} is now {describe_dataset_response['Status']}\")"
   ]
  },
  {
   "cell_type": "code",
   "execution_count": 6,
   "id": "cdac1af3",
   "metadata": {},
   "outputs": [],
   "source": [
    "#ONLY RUN IF YOU HAVE ALREADY RUN THE ABOVE CELL\n",
    "#Obtained arn from error message when running above cell after already created\n",
    "ts_dataset_arn = 'arn:aws:forecast:us-east-1:054619787751:dataset/WATCHLIST_TS'"
   ]
  },
  {
   "cell_type": "markdown",
   "id": "d247bc09",
   "metadata": {},
   "source": [
    "#### Importing the Dataset"
   ]
  },
  {
   "cell_type": "code",
   "execution_count": null,
   "id": "d181e652",
   "metadata": {},
   "outputs": [
    {
     "name": "stdout",
     "output_type": "stream",
     "text": [
      "Waiting for Dataset Import Job with ARN arn:aws:forecast:us-east-1:054619787751:dataset-import-job/WATCHLIST_TS/PREFUNDING_TTS_IMPORT to become ACTIVE. This process could take 5-10 minutes.\n",
      "\n",
      "Current Status:\n",
      "CREATE_PENDING .\n",
      "CREATE_IN_PROGRESS ............................................................"
     ]
    }
   ],
   "source": [
    "#ONLY NEED TO RUN THIS ONCE. SKIP TO NEXT CELL IF CREATED PREVIOUSLY.\n",
    "TIMESTAMP_FORMAT = \"yyyy-MM-dd hh:mm:ss\"\n",
    "TS_IMPORT_JOB_NAME = \"PREFUNDING_TTS_IMPORT\"\n",
    "TIMEZONE = \"EST\"\n",
    "\n",
    "ts_dataset_import_job_response = \\\n",
    "    forecast.create_dataset_import_job(DatasetImportJobName=TS_IMPORT_JOB_NAME,\n",
    "                                       DatasetArn=ts_dataset_arn,\n",
    "                                       DataSource= {\n",
    "                                         \"S3Config\" : {\n",
    "                                             \"Path\": ts_s3_path,\n",
    "                                             \"RoleArn\": role_arn\n",
    "                                         } \n",
    "                                       },\n",
    "                                       Format=\"PARQUET\",\n",
    "                                       TimestampFormat=TIMESTAMP_FORMAT,\n",
    "                                       TimeZone = TIMEZONE)\n",
    "\n",
    "ts_dataset_import_job_arn = ts_dataset_import_job_response['DatasetImportJobArn']\n",
    "describe_dataset_import_job_response = forecast.describe_dataset_import_job(DatasetImportJobArn=ts_dataset_import_job_arn)\n",
    "\n",
    "print(f\"Waiting for Dataset Import Job with ARN {ts_dataset_import_job_arn} to become ACTIVE. This process could take 5-10 minutes.\\n\\nCurrent Status:\")\n",
    "\n",
    "status = util.wait(lambda: forecast.describe_dataset_import_job(DatasetImportJobArn=ts_dataset_import_job_arn))\n",
    "\n",
    "describe_dataset_import_job_response = forecast.describe_dataset_import_job(DatasetImportJobArn=ts_dataset_import_job_arn)\n",
    "print(f\"\\n\\nThe Dataset Import Job with ARN {ts_dataset_import_job_arn} is now {describe_dataset_import_job_response['Status']}.\")"
   ]
  },
  {
   "cell_type": "code",
   "execution_count": 8,
   "id": "5b4e7f8a",
   "metadata": {},
   "outputs": [],
   "source": [
    "#ONLY RUN IF YOU HAVE ALREADY RUN THE ABOVE CELL\n",
    "# target dataset (watchlist) imported at:\n",
    "ts_dataset_import_job_arn = 'arn:aws:forecast:us-east-1:054619787751:dataset-import-job/WATCHLIST_TS/PREFUNDING_TTS_IMPORT'"
   ]
  },
  {
   "cell_type": "markdown",
   "id": "b6f05779",
   "metadata": {},
   "source": [
    "#### Creating a DatasetGroup"
   ]
  },
  {
   "cell_type": "code",
   "execution_count": 99,
   "id": "75ea0639",
   "metadata": {},
   "outputs": [
    {
     "name": "stdout",
     "output_type": "stream",
     "text": [
      "The DatasetGroup with ARN arn:aws:forecast:us-east-1:054619787751:dataset-group/TAIWAN_PREFUNDING is now ACTIVE.\n"
     ]
    }
   ],
   "source": [
    "#ONLY NEED TO RUN THIS ONCE. SKIP TO NEXT CELL IF CREATED PREVIOUSLY.\n",
    "DATASET_GROUP_NAME = \"TAIWAN_PREFUNDING\"\n",
    "DATASET_ARNS = [ts_dataset_arn]\n",
    "\n",
    "create_dataset_group_response = \\\n",
    "    forecast.create_dataset_group(Domain=\"CUSTOM\",\n",
    "                                  DatasetGroupName=DATASET_GROUP_NAME,\n",
    "                                  DatasetArns=DATASET_ARNS)\n",
    "\n",
    "dataset_group_arn = create_dataset_group_response['DatasetGroupArn']\n",
    "describe_dataset_group_response = forecast.describe_dataset_group(DatasetGroupArn=dataset_group_arn)\n",
    "\n",
    "print(f\"The DatasetGroup with ARN {dataset_group_arn} is now {describe_dataset_group_response['Status']}.\")"
   ]
  },
  {
   "cell_type": "code",
   "execution_count": 9,
   "id": "61377d7a",
   "metadata": {},
   "outputs": [],
   "source": [
    "#ONLY RUN IF YOU HAVE ALREADY RUN THE ABOVE CELL\n",
    "#Obtained arn original cell execution above\n",
    "dataset_group_arn = 'arn:aws:forecast:us-east-1:054619787751:dataset-group/TAIWAN_PREFUNDING'"
   ]
  },
  {
   "cell_type": "markdown",
   "id": "dfdaf880",
   "metadata": {},
   "source": [
    "## Step 2: Train a predictor - Experiment 01 <a class=\"anchor\" id=\"predictor\"></a>\n",
    "\n",
    "In this step, we will create a **Predictor** using the **DatasetGroup** that was created above. After creating the predictor, we will review the accuracy obtained through the backtesting process to get a quantitative understanding of the performance of the predictor.\n",
    "\n",
    "This will be the baseline predictor and experiment which we will expand on later with related datasets."
   ]
  },
  {
   "cell_type": "code",
   "execution_count": null,
   "id": "6bda518c",
   "metadata": {},
   "outputs": [
    {
     "name": "stdout",
     "output_type": "stream",
     "text": [
      "Waiting for Predictor with ARN arn:aws:forecast:us-east-1:054619787751:predictor/PREFUNDING_PREDICTOR_01_01GKW0Q4KG85PR41MRZXVXR7F5 to become ACTIVE. Depending on data size and predictor setting，it can take several hours to be ACTIVE.\n",
      "\n",
      "Current Status:\n",
      "CREATE_PENDING ..\n",
      "CREATE_IN_PROGRESS ................."
     ]
    }
   ],
   "source": [
    "#ONLY NEED TO RUN THIS ONCE. SKIP TO NEXT CELL IF CREATED PREVIOUSLY.\n",
    "PREDICTOR_NAME = \"PREFUNDING_PREDICTOR_01\"\n",
    "FORECAST_HORIZON = 1\n",
    "FORECAST_FREQUENCY = \"D\"\n",
    "#HOLIDAY_DATASET = [{\n",
    "#        'Name': 'holiday',\n",
    "#        'Configuration': {\n",
    "#        'CountryCode': ['TW']\n",
    "#    }\n",
    "#}]\n",
    "\n",
    "create_auto_predictor_response = \\\n",
    "    forecast.create_auto_predictor(PredictorName = PREDICTOR_NAME,\n",
    "                                   ForecastHorizon = FORECAST_HORIZON,\n",
    "                                   ForecastFrequency = FORECAST_FREQUENCY,\n",
    "                                   DataConfig = {\n",
    "                                       'DatasetGroupArn': dataset_group_arn\n",
    "                                       #,'AdditionalDatasets': HOLIDAY_DATASET\n",
    "                                        },\n",
    "                                   ExplainPredictor = True)\n",
    "\n",
    "predictor_arn = create_auto_predictor_response['PredictorArn']\n",
    "print(f\"Waiting for Predictor with ARN {predictor_arn} to become ACTIVE. Depending on data size and predictor setting，it can take several hours to be ACTIVE.\\n\\nCurrent Status:\")\n",
    "\n",
    "status = util.wait(lambda: forecast.describe_auto_predictor(PredictorArn=predictor_arn))\n",
    "\n",
    "describe_auto_predictor_response = forecast.describe_auto_predictor(PredictorArn=predictor_arn)\n",
    "print(f\"\\n\\nThe Predictor with ARN {predictor_arn} is now {describe_auto_predictor_response['Status']}.\")"
   ]
  },
  {
   "cell_type": "code",
   "execution_count": 5,
   "id": "53400ca5",
   "metadata": {},
   "outputs": [],
   "source": [
    "#ONLY RUN IF YOU HAVE ALREADY RUN THE ABOVE CELL\n",
    "#Obtained arn original cell execution above\n",
    "predictor_arn = 'arn:aws:forecast:us-east-1:054619787751:predictor/PREFUNDING_PREDICTOR_01_01GKW0Q4KG85PR41MRZXVXR7F5'"
   ]
  },
  {
   "cell_type": "markdown",
   "id": "4dfbd2d7",
   "metadata": {},
   "source": [
    "#### Review accuracy metrics\n",
    "\n",
    "* **Weighted Quantile Loss (wQL)** metric measures the accuracy of a model at a specified quantile. It is particularly useful when there are different costs for underpredicting and overpredicting.\n",
    "\n",
    "* **Root Mean Square Error (RMSE)** uses the squared value of the residuals, which amplifies the impact of outliers. In use cases where only a few large mispredictions can be very costly, the RMSE is the more relevant metric.\n",
    "\n",
    "* **Weighted Absolute Percentage Error (WAPE)** is more robust to outliers than Root Mean Square Error (RMSE) because it uses the absolute error instead of the squared error.\n",
    "\n",
    "* **Mean Absolute Percentage Error (MAPE)** is useful for cases where values differ significantly between time points and outliers have a significant impact.\n",
    "\n",
    "* **Mean Absolute Scaled Error (MASE)** is ideal for datasets that are cyclical in nature or have seasonal properties."
   ]
  },
  {
   "cell_type": "code",
   "execution_count": 7,
   "id": "1753de98",
   "metadata": {},
   "outputs": [
    {
     "name": "stdout",
     "output_type": "stream",
     "text": [
      "Weighted Quantile Loss (wQL): [\n",
      "  {\n",
      "    \"Quantile\": 0.9,\n",
      "    \"LossValue\": 0.13846153846153844\n",
      "  },\n",
      "  {\n",
      "    \"Quantile\": 0.5,\n",
      "    \"LossValue\": 0.38461538461538464\n",
      "  },\n",
      "  {\n",
      "    \"Quantile\": 0.1,\n",
      "    \"LossValue\": 0.10769230769230768\n",
      "  }\n",
      "]\n",
      "Root Mean Square Error (RMSE): 0.38682272190477407\n",
      "Weighted Absolute Percentage Error (WAPE): 0.4653846153846153\n",
      "Mean Absolute Percentage Error (MAPE): 0.051818181818181826\n",
      "Mean Absolute Scaled Error (MASE): 1e-130\n"
     ]
    }
   ],
   "source": [
    "get_accuracy_metrics_response = forecast.get_accuracy_metrics(PredictorArn=predictor_arn)\n",
    "wql = get_accuracy_metrics_response['PredictorEvaluationResults'][0]['TestWindows'][0]['Metrics']['WeightedQuantileLosses']\n",
    "accuracy_scores = get_accuracy_metrics_response['PredictorEvaluationResults'][0]['TestWindows'][0]['Metrics']['ErrorMetrics'][0]\n",
    "\n",
    "print(f\"Weighted Quantile Loss (wQL): {json.dumps(wql, indent=2)}\")\n",
    "\n",
    "print(f\"Root Mean Square Error (RMSE): {accuracy_scores['RMSE']}\")\n",
    "\n",
    "print(f\"Weighted Absolute Percentage Error (WAPE): {accuracy_scores['WAPE']}\")\n",
    "\n",
    "print(f\"Mean Absolute Percentage Error (MAPE): {accuracy_scores['MAPE']}\")\n",
    "\n",
    "print(f\"Mean Absolute Scaled Error (MASE): {accuracy_scores['MASE']}\")"
   ]
  },
  {
   "cell_type": "code",
   "execution_count": 9,
   "id": "89a62787",
   "metadata": {
    "collapsed": true,
    "jupyter": {
     "outputs_hidden": true
    }
   },
   "outputs": [
    {
     "name": "stdout",
     "output_type": "stream",
     "text": [
      "download: s3://forecast-exp-1111/backtest_exports/_CHECK to backtest_exports/_CHECK\n",
      "download: s3://forecast-exp-1111/backtest_exports/accuracy-metrics-values/Accuracy_PREFUNDING_PREDICTOR_01_export1_2022-12-09T20-16-00Z_part12.csv to backtest_exports/accuracy-metrics-values/Accuracy_PREFUNDING_PREDICTOR_01_export1_2022-12-09T20-16-00Z_part12.csv\n",
      "download: s3://forecast-exp-1111/backtest_exports/accuracy-metrics-values/Accuracy_PREFUNDING_PREDICTOR_01_export1_2022-12-09T20-16-00Z_part0.csv to backtest_exports/accuracy-metrics-values/Accuracy_PREFUNDING_PREDICTOR_01_export1_2022-12-09T20-16-00Z_part0.csv\n",
      "download: s3://forecast-exp-1111/backtest_exports/accuracy-metrics-values/Accuracy_PREFUNDING_PREDICTOR_01_export1_2022-12-09T20-16-00Z_part1.csv to backtest_exports/accuracy-metrics-values/Accuracy_PREFUNDING_PREDICTOR_01_export1_2022-12-09T20-16-00Z_part1.csv\n",
      "download: s3://forecast-exp-1111/backtest_exports/accuracy-metrics-values/Accuracy_PREFUNDING_PREDICTOR_01_export1_2022-12-09T20-16-00Z_part13.csv to backtest_exports/accuracy-metrics-values/Accuracy_PREFUNDING_PREDICTOR_01_export1_2022-12-09T20-16-00Z_part13.csv\n",
      "download: s3://forecast-exp-1111/backtest_exports/accuracy-metrics-values/Accuracy_PREFUNDING_PREDICTOR_01_export1_2022-12-09T20-16-00Z_part10.csv to backtest_exports/accuracy-metrics-values/Accuracy_PREFUNDING_PREDICTOR_01_export1_2022-12-09T20-16-00Z_part10.csv\n",
      "download: s3://forecast-exp-1111/backtest_exports/accuracy-metrics-values/Accuracy_PREFUNDING_PREDICTOR_01_export1_2022-12-09T20-16-00Z_part5.csv to backtest_exports/accuracy-metrics-values/Accuracy_PREFUNDING_PREDICTOR_01_export1_2022-12-09T20-16-00Z_part5.csv\n",
      "download: s3://forecast-exp-1111/backtest_exports/accuracy-metrics-values/Accuracy_PREFUNDING_PREDICTOR_01_export1_2022-12-09T20-16-00Z_part11.csv to backtest_exports/accuracy-metrics-values/Accuracy_PREFUNDING_PREDICTOR_01_export1_2022-12-09T20-16-00Z_part11.csv\n",
      "download: s3://forecast-exp-1111/backtest_exports/accuracy-metrics-values/Accuracy_PREFUNDING_PREDICTOR_01_export1_2022-12-09T20-16-00Z_part15.csv to backtest_exports/accuracy-metrics-values/Accuracy_PREFUNDING_PREDICTOR_01_export1_2022-12-09T20-16-00Z_part15.csv\n",
      "download: s3://forecast-exp-1111/backtest_exports/accuracy-metrics-values/Accuracy_PREFUNDING_PREDICTOR_01_export1_2022-12-09T20-16-00Z_part4.csv to backtest_exports/accuracy-metrics-values/Accuracy_PREFUNDING_PREDICTOR_01_export1_2022-12-09T20-16-00Z_part4.csv\n",
      "download: s3://forecast-exp-1111/backtest_exports/accuracy-metrics-values/Accuracy_PREFUNDING_PREDICTOR_01_export1_2022-12-09T20-16-00Z_part8.csv to backtest_exports/accuracy-metrics-values/Accuracy_PREFUNDING_PREDICTOR_01_export1_2022-12-09T20-16-00Z_part8.csv\n",
      "download: s3://forecast-exp-1111/backtest_exports/accuracy-metrics-values/Accuracy_PREFUNDING_PREDICTOR_01_export1_2022-12-09T20-16-00Z_part3.csv to backtest_exports/accuracy-metrics-values/Accuracy_PREFUNDING_PREDICTOR_01_export1_2022-12-09T20-16-00Z_part3.csv\n",
      "download: s3://forecast-exp-1111/backtest_exports/accuracy-metrics-values/Accuracy_PREFUNDING_PREDICTOR_01_export1_2022-12-09T20-16-00Z_part7.csv to backtest_exports/accuracy-metrics-values/Accuracy_PREFUNDING_PREDICTOR_01_export1_2022-12-09T20-16-00Z_part7.csv\n",
      "download: s3://forecast-exp-1111/backtest_exports/accuracy-metrics-values/Accuracy_PREFUNDING_PREDICTOR_01_export1_2022-12-09T20-16-00Z_part16.csv to backtest_exports/accuracy-metrics-values/Accuracy_PREFUNDING_PREDICTOR_01_export1_2022-12-09T20-16-00Z_part16.csv\n",
      "download: s3://forecast-exp-1111/backtest_exports/accuracy-metrics-values/Accuracy_PREFUNDING_PREDICTOR_01_export1_2022-12-09T20-16-00Z_part17.csv to backtest_exports/accuracy-metrics-values/Accuracy_PREFUNDING_PREDICTOR_01_export1_2022-12-09T20-16-00Z_part17.csv\n",
      "download: s3://forecast-exp-1111/backtest_exports/forecasted-values/Forecasts_PREFUNDING_PREDICTOR_01_export1_2022-12-09T20-15-44Z_part11.csv to backtest_exports/forecasted-values/Forecasts_PREFUNDING_PREDICTOR_01_export1_2022-12-09T20-15-44Z_part11.csv\n",
      "download: s3://forecast-exp-1111/backtest_exports/forecasted-values/Forecasts_PREFUNDING_PREDICTOR_01_export1_2022-12-09T20-15-44Z_part0.csv to backtest_exports/forecasted-values/Forecasts_PREFUNDING_PREDICTOR_01_export1_2022-12-09T20-15-44Z_part0.csv\n",
      "download: s3://forecast-exp-1111/backtest_exports/accuracy-metrics-values/Accuracy_PREFUNDING_PREDICTOR_01_export1_2022-12-09T20-16-00Z_part2.csv to backtest_exports/accuracy-metrics-values/Accuracy_PREFUNDING_PREDICTOR_01_export1_2022-12-09T20-16-00Z_part2.csv\n",
      "download: s3://forecast-exp-1111/backtest_exports/forecasted-values/Forecasts_PREFUNDING_PREDICTOR_01_export1_2022-12-09T20-15-44Z_part1.csv to backtest_exports/forecasted-values/Forecasts_PREFUNDING_PREDICTOR_01_export1_2022-12-09T20-15-44Z_part1.csv\n",
      "download: s3://forecast-exp-1111/backtest_exports/forecasted-values/Forecasts_PREFUNDING_PREDICTOR_01_export1_2022-12-09T20-15-44Z_part10.csv to backtest_exports/forecasted-values/Forecasts_PREFUNDING_PREDICTOR_01_export1_2022-12-09T20-15-44Z_part10.csv\n",
      "download: s3://forecast-exp-1111/backtest_exports/accuracy-metrics-values/Accuracy_PREFUNDING_PREDICTOR_01_export1_2022-12-09T20-16-00Z_part9.csv to backtest_exports/accuracy-metrics-values/Accuracy_PREFUNDING_PREDICTOR_01_export1_2022-12-09T20-16-00Z_part9.csv\n",
      "download: s3://forecast-exp-1111/backtest_exports/accuracy-metrics-values/_SUCCESS to backtest_exports/accuracy-metrics-values/_SUCCESS\n",
      "download: s3://forecast-exp-1111/backtest_exports/forecasted-values/Forecasts_PREFUNDING_PREDICTOR_01_export1_2022-12-09T20-15-44Z_part12.csv to backtest_exports/forecasted-values/Forecasts_PREFUNDING_PREDICTOR_01_export1_2022-12-09T20-15-44Z_part12.csv\n",
      "download: s3://forecast-exp-1111/backtest_exports/forecasted-values/Forecasts_PREFUNDING_PREDICTOR_01_export1_2022-12-09T20-15-44Z_part2.csv to backtest_exports/forecasted-values/Forecasts_PREFUNDING_PREDICTOR_01_export1_2022-12-09T20-15-44Z_part2.csv\n",
      "download: s3://forecast-exp-1111/backtest_exports/accuracy-metrics-values/Accuracy_PREFUNDING_PREDICTOR_01_export1_2022-12-09T20-16-00Z_part6.csv to backtest_exports/accuracy-metrics-values/Accuracy_PREFUNDING_PREDICTOR_01_export1_2022-12-09T20-16-00Z_part6.csv\n",
      "download: s3://forecast-exp-1111/backtest_exports/forecasted-values/Forecasts_PREFUNDING_PREDICTOR_01_export1_2022-12-09T20-15-44Z_part5.csv to backtest_exports/forecasted-values/Forecasts_PREFUNDING_PREDICTOR_01_export1_2022-12-09T20-15-44Z_part5.csv\n",
      "download: s3://forecast-exp-1111/backtest_exports/forecasted-values/Forecasts_PREFUNDING_PREDICTOR_01_export1_2022-12-09T20-15-44Z_part9.csv to backtest_exports/forecasted-values/Forecasts_PREFUNDING_PREDICTOR_01_export1_2022-12-09T20-15-44Z_part9.csv\n",
      "download: s3://forecast-exp-1111/backtest_exports/forecasted-values/Forecasts_PREFUNDING_PREDICTOR_01_export1_2022-12-09T20-15-44Z_part8.csv to backtest_exports/forecasted-values/Forecasts_PREFUNDING_PREDICTOR_01_export1_2022-12-09T20-15-44Z_part8.csv\n",
      "download: s3://forecast-exp-1111/backtest_exports/accuracy-metrics-values/Accuracy_PREFUNDING_PREDICTOR_01_export1_2022-12-09T20-16-00Z_part14.csv to backtest_exports/accuracy-metrics-values/Accuracy_PREFUNDING_PREDICTOR_01_export1_2022-12-09T20-16-00Z_part14.csv\n",
      "download: s3://forecast-exp-1111/backtest_exports/forecasted-values/Forecasts_PREFUNDING_PREDICTOR_01_export1_2022-12-09T20-15-44Z_part3.csv to backtest_exports/forecasted-values/Forecasts_PREFUNDING_PREDICTOR_01_export1_2022-12-09T20-15-44Z_part3.csv\n",
      "download: s3://forecast-exp-1111/backtest_exports/forecasted-values/_SUCCESS to backtest_exports/forecasted-values/_SUCCESS\n",
      "download: s3://forecast-exp-1111/backtest_exports/forecasted-values/Forecasts_PREFUNDING_PREDICTOR_01_export1_2022-12-09T20-15-44Z_part4.csv to backtest_exports/forecasted-values/Forecasts_PREFUNDING_PREDICTOR_01_export1_2022-12-09T20-15-44Z_part4.csv\n",
      "download: s3://forecast-exp-1111/backtest_exports/forecasted-values/Forecasts_PREFUNDING_PREDICTOR_01_export1_2022-12-09T20-15-44Z_part13.csv to backtest_exports/forecasted-values/Forecasts_PREFUNDING_PREDICTOR_01_export1_2022-12-09T20-15-44Z_part13.csv\n",
      "download: s3://forecast-exp-1111/backtest_exports/forecasted-values/Forecasts_PREFUNDING_PREDICTOR_01_export1_2022-12-09T20-15-44Z_part7.csv to backtest_exports/forecasted-values/Forecasts_PREFUNDING_PREDICTOR_01_export1_2022-12-09T20-15-44Z_part7.csv\n",
      "download: s3://forecast-exp-1111/backtest_exports/forecasted-values/Forecasts_PREFUNDING_PREDICTOR_01_export1_2022-12-09T20-15-44Z_part6.csv to backtest_exports/forecasted-values/Forecasts_PREFUNDING_PREDICTOR_01_export1_2022-12-09T20-15-44Z_part6.csv\n"
     ]
    }
   ],
   "source": [
    "#download backtest exports\n",
    "!aws s3 sync s3://forecast-exp-1111/backtest_exports/ ./backtest_exports"
   ]
  },
  {
   "cell_type": "code",
   "execution_count": 11,
   "id": "fdad1e3c",
   "metadata": {},
   "outputs": [],
   "source": [
    "accuracy_metric_values_files = glob.glob(os.path.join(os.getcwd(),\n",
    "                                                      'backtest_exports', \n",
    "                                                      'accuracy_metric_values',\n",
    "                                                      '*'))"
   ]
  },
  {
   "cell_type": "code",
   "execution_count": 13,
   "id": "47946238",
   "metadata": {},
   "outputs": [
    {
     "data": {
      "text/plain": [
       "[]"
      ]
     },
     "execution_count": 13,
     "metadata": {},
     "output_type": "execute_result"
    }
   ],
   "source": [
    "accuracy_metric_values_files"
   ]
  },
  {
   "cell_type": "code",
   "execution_count": null,
   "id": "edd44d42",
   "metadata": {},
   "outputs": [],
   "source": []
  }
 ],
 "metadata": {
  "kernelspec": {
   "display_name": "conda_python3",
   "language": "python",
   "name": "conda_python3"
  },
  "language_info": {
   "codemirror_mode": {
    "name": "ipython",
    "version": 3
   },
   "file_extension": ".py",
   "mimetype": "text/x-python",
   "name": "python",
   "nbconvert_exporter": "python",
   "pygments_lexer": "ipython3",
   "version": "3.8.12"
  }
 },
 "nbformat": 4,
 "nbformat_minor": 5
}
