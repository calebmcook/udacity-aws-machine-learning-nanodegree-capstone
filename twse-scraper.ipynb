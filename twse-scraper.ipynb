{
 "cells": [
  {
   "cell_type": "markdown",
   "metadata": {},
   "source": [
    "# Scraper Utility to obtain data from twse website\r\n",
    "## References\r\n",
    "- https://bitbucket.opst.c1.vanguard.com/users/uc8c/repos/gidm/browse/fdm1/fdm1.py\r\n",
    "- https://www.twse.com.tw/en/page/trading/exchange/BWIBBU_d.html - P/E, P/B ratios\r\n",
    "- https://www.twse.com.tw/en/page/trading/exchange/TWTASU.html - short sale vol\r\n",
    "- https://www.twse.com.tw/en/page/trading/exchange/MI_INDEX.html#subtitle7 - daily summary - all\r\n",
    "- https://www.twse.com.tw/en/page/trading/exchange/TWT85U.html - full delivery securities\r\n",
    "- https://emops.twse.com.tw/server-java/t58query#\r\n",
    "- https://app2.msci.com/eqb/custom_indexes/tw_performance.html - MSCI index constituents\r\n"
   ]
  },
  {
   "cell_type": "code",
   "execution_count": 48,
   "metadata": {},
   "outputs": [],
   "source": [
    "urls = {\r\n",
    "    \"ratios\" : 'https://www.twse.com.tw/en/page/trading/exchange/BWIBBU_d.html',\r\n",
    "    \"short_sales\" : 'https://www.twse.com.tw/en/page/trading/exchange/TWTASU.html',\r\n",
    "    \"summary_px_vol\" : 'https://www.twse.com.tw/en/page/trading/exchange/MI_INDEX.html#subtitle7',\r\n",
    "    \"full_delivery\": 'https://www.twse.com.tw/en/page/trading/exchange/TWT85U.html'\r\n",
    "}"
   ]
  },
  {
   "cell_type": "code",
   "execution_count": 1,
   "metadata": {},
   "outputs": [],
   "source": [
    "#for Chrome bot stuff\r\n",
    "from selenium import webdriver\r\n",
    "from selenium.webdriver.chrome.options import Options\r\n",
    "from selenium.webdriver.common.by import By\r\n",
    "from selenium.webdriver.common.keys import Keys\r\n",
    "from selenium.webdriver.support.ui import Select\r\n",
    "from selenium.webdriver import ActionChains\r\n",
    "import time\r\n",
    "import pandas as pd\r\n",
    "import shutil"
   ]
  },
  {
   "cell_type": "code",
   "execution_count": 3,
   "metadata": {},
   "outputs": [],
   "source": [
    "pd.options.display.max_rows = 2000"
   ]
  },
  {
   "cell_type": "code",
   "execution_count": 4,
   "metadata": {},
   "outputs": [],
   "source": [
    "def createWebDriver():\r\n",
    "    \"\"\" creates the Chrome web driver bot \"\"\"\r\n",
    "    chrome_path = os.getcwd()+\"\\\\chromedriver.exe\"\r\n",
    "    #chrome_path = \"C:\\\\Users\\\\uc8c\\\\OneDrive - Vanguard\\\\Repos on Desktop - Laptop Migration 6-26-21\\\\GIDM\\\\gidm\\\\fdm1\\\\drivers\"\r\n",
    "    chrome_options = Options()\r\n",
    "    #chrome_options.add_argument(\"--headless\") \r\n",
    "    driver = webdriver.Chrome(executable_path = chrome_path, chrome_options=chrome_options)\r\n",
    "\r\n",
    "    return driver"
   ]
  },
  {
   "cell_type": "code",
   "execution_count": 5,
   "metadata": {},
   "outputs": [],
   "source": [
    "def get_full_delivery_data(driver, start_date='1/1/2022', end_date='1/5/2022'):\r\n",
    "    \"\"\" Used to obtain full delivery data from the twse website \"\"\"\r\n",
    "   \r\n",
    "    driver.get(urls['full_delivery'])\r\n",
    "    \r\n",
    "    date_range = pd.bdate_range(start=start_date, end=end_date)\r\n",
    "\r\n",
    "    for d in date_range:\r\n",
    "        #select month\r\n",
    "        select_mo = Select(driver.find_element_by_xpath('//*[@id=\"d1\"]/select[2]'))\r\n",
    "        select_mo.select_by_index(d.month-1)\r\n",
    "        time.sleep(1)\r\n",
    "\r\n",
    "        #select day\r\n",
    "        select_day = Select(driver.find_element_by_xpath('//*[@id=\"d1\"]/select[3]'))\r\n",
    "        select_day.select_by_index(d.day-1)\r\n",
    "        time.sleep(1)\r\n",
    "\r\n",
    "        #click query button\r\n",
    "        driver.find_element_by_tag_name('a.button.search').click()\r\n",
    "        time.sleep(4)\r\n",
    "\r\n",
    "        #click download csv button\r\n",
    "        driver.find_element_by_xpath('//*[@id=\"reports\"]/div[1]/a[2]').click()\r\n",
    "        time.sleep(4)"
   ]
  },
  {
   "cell_type": "code",
   "execution_count": 6,
   "metadata": {},
   "outputs": [],
   "source": [
    "def get_short_sales_data(driver, start_date='1/1/2022', end_date='1/5/2022'):\r\n",
    "    \"\"\" Used to obtain short sales data from twse website \"\"\"\r\n",
    "   \r\n",
    "    driver.get(urls['short_sales'])\r\n",
    "    \r\n",
    "    date_range = pd.bdate_range(start=start_date, end=end_date)\r\n",
    "\r\n",
    "    for d in date_range:\r\n",
    "        #select month\r\n",
    "        select_mo = Select(driver.find_element_by_xpath('//*[@id=\"d1\"]/select[2]'))\r\n",
    "        select_mo.select_by_index(d.month-1)\r\n",
    "        time.sleep(1)\r\n",
    "\r\n",
    "        #select day\r\n",
    "        select_day = Select(driver.find_element_by_xpath('//*[@id=\"d1\"]/select[3]'))\r\n",
    "        select_day.select_by_index(d.day-1)\r\n",
    "        time.sleep(1)\r\n",
    "\r\n",
    "        #click query button\r\n",
    "        driver.find_element_by_tag_name('a.button.search').click()\r\n",
    "        time.sleep(4)\r\n",
    "\r\n",
    "        #click download csv button\r\n",
    "        driver.find_element_by_xpath('//*[@id=\"reports\"]/div[1]/a[2]').click()\r\n",
    "        time.sleep(4)"
   ]
  },
  {
   "cell_type": "code",
   "execution_count": 46,
   "metadata": {},
   "outputs": [],
   "source": [
    "def get_ratios_data(driver, start_date='1/1/2022', end_date='1/5/2022'):\r\n",
    "    \"\"\" Used to obtain ratios data from twse website \"\"\"\r\n",
    "   \r\n",
    "    driver.get(urls['ratios'])\r\n",
    "    date_range = pd.bdate_range(start=start_date, end=end_date) \r\n",
    "\r\n",
    "    for d in date_range:\r\n",
    "        #select month\r\n",
    "        select_mo = Select(driver.find_element_by_xpath('//*[@id=\"d1\"]/select[2]'))\r\n",
    "        select_mo.select_by_index(d.month-1)\r\n",
    "        time.sleep(1)\r\n",
    "\r\n",
    "        #select day\r\n",
    "        select_day = Select(driver.find_element_by_xpath('//*[@id=\"d1\"]/select[3]'))\r\n",
    "        select_day.select_by_index(d.day-1)\r\n",
    "        time.sleep(1)\r\n",
    "\r\n",
    "        #click query button\r\n",
    "        driver.find_element_by_tag_name('a.button.search').click()\r\n",
    "        time.sleep(3)\r\n",
    "\r\n",
    "        try:\r\n",
    "            #click download csv button\r\n",
    "            driver.find_element_by_xpath('//*[@id=\"reports\"]/div[1]/a[2]').click()\r\n",
    "        except:\r\n",
    "            print(f\"Error downloading data for: {d}\")\r\n",
    "        time.sleep(3)"
   ]
  },
  {
   "cell_type": "code",
   "execution_count": 49,
   "metadata": {},
   "outputs": [],
   "source": [
    "def get_summary_data(driver, start_date='1/1/2022', end_date='1/5/2022'):\r\n",
    "    \"\"\" Used to obtain summary data from twse website \"\"\"\r\n",
    "   \r\n",
    "    driver.get(urls['summary_px_vol'])\r\n",
    "    date_range = pd.bdate_range(start=start_date, end=end_date) \r\n",
    "\r\n",
    "    for d in date_range:\r\n",
    "        #select month\r\n",
    "        select_mo = Select(driver.find_element_by_xpath('//*[@id=\"d1\"]/select[2]'))\r\n",
    "        select_mo.select_by_index(d.month-1)\r\n",
    "        time.sleep(1)\r\n",
    "\r\n",
    "        #select day\r\n",
    "        select_day = Select(driver.find_element_by_xpath('//*[@id=\"d1\"]/select[3]'))\r\n",
    "        select_day.select_by_index(d.day-1)\r\n",
    "        time.sleep(1)\r\n",
    "\r\n",
    "        #select category\r\n",
    "        select_cat = Select(driver.find_element_by_xpath('//*[@id=\"main-form\"]/div/div/form/select'))\r\n",
    "        select_cat.select_by_visible_text('All(no Warrant & CBBC & OCBBC)')\r\n",
    "\r\n",
    "        #click query button\r\n",
    "        driver.find_element_by_tag_name('a.button.search').click()\r\n",
    "        time.sleep(3)\r\n",
    "\r\n",
    "        try:\r\n",
    "            #click download csv button\r\n",
    "            driver.find_element_by_xpath('//*[@id=\"reports\"]/div[1]/a[2]').click()\r\n",
    "        except:\r\n",
    "            print(f\"Error downloading data for: {d}\")\r\n",
    "        time.sleep(3)"
   ]
  },
  {
   "cell_type": "code",
   "execution_count": 8,
   "metadata": {},
   "outputs": [
    {
     "name": "stderr",
     "output_type": "stream",
     "text": [
      "C:\\Users\\uc8c\\AppData\\Local\\Temp/ipykernel_30916/1570040323.py:7: DeprecationWarning: use options instead of chrome_options\n",
      "  driver = webdriver.Chrome(executable_path = chrome_path, chrome_options=chrome_options)\n"
     ]
    },
    {
     "name": "stdout",
     "output_type": "stream",
     "text": [
      "Successfully created Chrome bot\n"
     ]
    }
   ],
   "source": [
    "################set up Chrome driver#######\r\n",
    "try:   \r\n",
    "    driver = createWebDriver()\r\n",
    "    print(\"Successfully created Chrome bot\")\r\n",
    "    time.sleep(1)\r\n",
    "\r\n",
    "except:\r\n",
    "    print(\"Unexpected error:\", sys.exc_info()[0])\r\n",
    "    #time.sleep(1*60)\r\n",
    "    raise"
   ]
  },
  {
   "cell_type": "code",
   "execution_count": 83,
   "metadata": {},
   "outputs": [],
   "source": [
    "#run to obtain full delivery data, via downloaded csv files\r\n",
    "get_full_delivery_data(driver, start_date='1/2/2022', end_date='1/5/2022')"
   ]
  },
  {
   "cell_type": "code",
   "execution_count": 86,
   "metadata": {},
   "outputs": [
    {
     "data": {
      "text/plain": "'c:\\\\Users\\\\uc8c\\\\Desktop\\\\daa.eq-service-prefunding-challenge\\\\taiwan-watchlist-data-website-raw-01012022-10312022.zip'"
     },
     "execution_count": 86,
     "metadata": {},
     "output_type": "execute_result"
    }
   ],
   "source": [
    "#make zip file\r\n",
    "shutil.make_archive(\"taiwan-watchlist-data-website-raw-01012022-10312022\", 'zip', './data/')"
   ]
  },
  {
   "cell_type": "code",
   "execution_count": 99,
   "metadata": {},
   "outputs": [],
   "source": [
    "#run to obtain short sales data, via downloaded csv files\r\n",
    "#(NT$, trading unit/thousand shares)\r\n",
    "#use Margin Short Sales column\r\n",
    "get_short_sales_data(driver, start_date='5/2/2022', end_date='10/31/2022')"
   ]
  },
  {
   "cell_type": "code",
   "execution_count": 100,
   "metadata": {},
   "outputs": [
    {
     "data": {
      "text/plain": "'c:\\\\Users\\\\uc8c\\\\Desktop\\\\daa.eq-service-prefunding-challenge\\\\taiwan-shortsale-data-website-raw-01012022-10312022.zip'"
     },
     "execution_count": 100,
     "metadata": {},
     "output_type": "execute_result"
    }
   ],
   "source": [
    "#make zip file\r\n",
    "shutil.make_archive(\"taiwan-shortsale-data-website-raw-01012022-10312022\", 'zip', './data/')"
   ]
  },
  {
   "cell_type": "code",
   "execution_count": 45,
   "metadata": {},
   "outputs": [
    {
     "data": {
      "application/x.notebook.stdout": "Error downloading data for: 2022-01-27 00:00:00\nError downloading data for: 2022-01-28 00:00:00\nError downloading data for: 2022-01-31 00:00:00\nError downloading data for: 2022-02-01 00:00:00\nError downloading data for: 2022-02-02 00:00:00\nError downloading data for: 2022-02-03 00:00:00\nError downloading data for: 2022-02-04 00:00:00\nError downloading data for: 2022-02-28 00:00:00\nError downloading data for: 2022-03-21 00:00:00\nError downloading data for: 2022-04-04 00:00:00\nError downloading data for: 2022-04-05 00:00:00\nError downloading data for: 2022-05-02 00:00:00\nError downloading data for: 2022-06-03 00:00:00\nError downloading data for: 2022-08-11 00:00:00\nError downloading data for: 2022-08-12 00:00:00\nError downloading data for: 2022-08-26 00:00:00\nError downloading data for: 2022-09-09 00:00:00\nError downloading data for: 2022-10-10 00:00:00\nError downloading data for: 2022-10-26 00:00:00\n"
     },
     "output_type": "unknown"
    }
   ],
   "source": [
    "get_ratios_data(driver, start_date='1/27/2022', end_date='10/31/2022')"
   ]
  },
  {
   "cell_type": "code",
   "execution_count": 90,
   "metadata": {},
   "outputs": [
    {
     "data": {
      "text/plain": "'c:\\\\Users\\\\uc8c\\\\Desktop\\\\daa.eq-service-prefunding-challenge\\\\all_data.zip'"
     },
     "execution_count": 90,
     "metadata": {},
     "output_type": "execute_result"
    }
   ],
   "source": [
    "#make zip file\r\n",
    "shutil.make_archive(\"all_data\", 'zip', './data')"
   ]
  },
  {
   "cell_type": "code",
   "execution_count": 51,
   "metadata": {},
   "outputs": [
    {
     "name": "stdout",
     "output_type": "stream",
     "text": [
      "Error downloading data for: 2022-01-27 00:00:00\n",
      "Error downloading data for: 2022-01-28 00:00:00\n",
      "Error downloading data for: 2022-01-31 00:00:00\n",
      "Error downloading data for: 2022-02-01 00:00:00\n",
      "Error downloading data for: 2022-02-02 00:00:00\n",
      "Error downloading data for: 2022-02-03 00:00:00\n",
      "Error downloading data for: 2022-02-04 00:00:00\n",
      "Error downloading data for: 2022-02-28 00:00:00\n",
      "Error downloading data for: 2022-04-04 00:00:00\n",
      "Error downloading data for: 2022-04-05 00:00:00\n",
      "Error downloading data for: 2022-05-02 00:00:00\n",
      "Error downloading data for: 2022-06-03 00:00:00\n",
      "Error downloading data for: 2022-09-09 00:00:00\n",
      "Error downloading data for: 2022-10-10 00:00:00\n"
     ]
    }
   ],
   "source": [
    "get_summary_data(driver, start_date='1/6/2022', end_date='10/31/2022')"
   ]
  },
  {
   "cell_type": "code",
   "execution_count": 88,
   "metadata": {},
   "outputs": [
    {
     "data": {
      "text/plain": "'c:\\\\Users\\\\uc8c\\\\Desktop\\\\daa.eq-service-prefunding-challenge\\\\taiwan-stockquotes-data-website-raw-010122-10312022.zip'"
     },
     "execution_count": 88,
     "metadata": {},
     "output_type": "execute_result"
    }
   ],
   "source": [
    "#make zip file\r\n",
    "shutil.make_archive(\"taiwan-stockquotes-data-website-raw-010122-10312022\", 'zip', './data')"
   ]
  },
  {
   "cell_type": "code",
   "execution_count": 42,
   "metadata": {},
   "outputs": [],
   "source": [
    "import glob"
   ]
  },
  {
   "cell_type": "code",
   "execution_count": 60,
   "metadata": {},
   "outputs": [],
   "source": [
    "summary_path = os.path.join(os.getcwd(), \"other_data\", \"taiwan-summary-website-raw-01012022-10312022\")"
   ]
  },
  {
   "cell_type": "code",
   "execution_count": 61,
   "metadata": {},
   "outputs": [
    {
     "data": {
      "text/plain": "'c:\\\\Users\\\\uc8c\\\\Desktop\\\\daa.eq-service-prefunding-challenge\\\\data\\\\taiwan-summary-website-raw-01012022-10312022'"
     },
     "execution_count": 61,
     "metadata": {},
     "output_type": "execute_result"
    }
   ],
   "source": [
    "summary_path"
   ]
  },
  {
   "cell_type": "code",
   "execution_count": 63,
   "metadata": {},
   "outputs": [],
   "source": [
    "summary_files = glob.glob(os.path.join(summary_path, '*'))"
   ]
  },
  {
   "cell_type": "code",
   "execution_count": 79,
   "metadata": {},
   "outputs": [],
   "source": [
    "#extacting just the stock quotes from the summary files.\r\n",
    "for filepath in summary_files[5:]:\r\n",
    "    data_start = 1000000\r\n",
    "    with open(filepath, 'r') as f:\r\n",
    "        with open(os.path.join(os.path.split(filepath)[0], os.path.split(filepath)[1][:-4]+\"_stock_quotes.csv\"), 'w') as temp:\r\n",
    "            for i, line in enumerate(f):\r\n",
    "                try:\r\n",
    "                    if \"Security Code\" in line:\r\n",
    "                        data_start = i\r\n",
    "                        temp.write(line)\r\n",
    "\r\n",
    "                    if (i > data_start):\r\n",
    "                        if \"Remarks:\" in line:\r\n",
    "                            break\r\n",
    "                        temp.write(line)\r\n",
    "                        \r\n",
    "                except:\r\n",
    "                    print(f\"Error reading line: {i}\")\r\n",
    "                    errors.append(i)\r\n"
   ]
  },
  {
   "cell_type": "code",
   "execution_count": 84,
   "metadata": {},
   "outputs": [
    {
     "data": {
      "text/html": "<div>\n<style scoped>\n    .dataframe tbody tr th:only-of-type {\n        vertical-align: middle;\n    }\n\n    .dataframe tbody tr th {\n        vertical-align: top;\n    }\n\n    .dataframe thead th {\n        text-align: right;\n    }\n</style>\n<table border=\"1\" class=\"dataframe\">\n  <thead>\n    <tr style=\"text-align: right;\">\n      <th></th>\n      <th>Security Code</th>\n      <th>Trade Volume</th>\n      <th>Transaction</th>\n      <th>Trade Value</th>\n      <th>Opening Price</th>\n      <th>Highest Price</th>\n      <th>Lowest Price</th>\n      <th>Closing Price</th>\n      <th>Dir(+/-)</th>\n      <th>Change</th>\n      <th>Last Best Bid Price</th>\n      <th>Last Best Bid Volume</th>\n      <th>Last Best Ask Price</th>\n      <th>Last Best Ask Volume</th>\n      <th>Price-Earning ratio</th>\n      <th>Unnamed: 15</th>\n    </tr>\n  </thead>\n  <tbody>\n    <tr>\n      <th>0</th>\n      <td>=\"0050\"</td>\n      <td>7,064,552</td>\n      <td>8,298</td>\n      <td>1,034,974,917</td>\n      <td>146.00</td>\n      <td>147.35</td>\n      <td>146.00</td>\n      <td>146.40</td>\n      <td>+</td>\n      <td>0.90</td>\n      <td>146.35</td>\n      <td>32</td>\n      <td>146.40</td>\n      <td>96</td>\n      <td>0.00</td>\n      <td>NaN</td>\n    </tr>\n    <tr>\n      <th>1</th>\n      <td>=\"0051\"</td>\n      <td>135,357</td>\n      <td>185</td>\n      <td>8,244,702</td>\n      <td>60.90</td>\n      <td>61.30</td>\n      <td>60.75</td>\n      <td>60.90</td>\n      <td>+</td>\n      <td>0.10</td>\n      <td>60.75</td>\n      <td>2</td>\n      <td>60.90</td>\n      <td>45</td>\n      <td>0.00</td>\n      <td>NaN</td>\n    </tr>\n    <tr>\n      <th>2</th>\n      <td>=\"0052\"</td>\n      <td>882,163</td>\n      <td>488</td>\n      <td>119,306,921</td>\n      <td>134.65</td>\n      <td>135.95</td>\n      <td>134.65</td>\n      <td>135.20</td>\n      <td>+</td>\n      <td>1.05</td>\n      <td>135.20</td>\n      <td>54</td>\n      <td>135.35</td>\n      <td>7</td>\n      <td>0.00</td>\n      <td>NaN</td>\n    </tr>\n    <tr>\n      <th>3</th>\n      <td>=\"0053\"</td>\n      <td>28,349</td>\n      <td>25</td>\n      <td>1,996,804</td>\n      <td>70.25</td>\n      <td>70.75</td>\n      <td>70.25</td>\n      <td>70.45</td>\n      <td>+</td>\n      <td>0.50</td>\n      <td>70.40</td>\n      <td>20</td>\n      <td>70.45</td>\n      <td>1</td>\n      <td>0.00</td>\n      <td>NaN</td>\n    </tr>\n    <tr>\n      <th>4</th>\n      <td>=\"0054\"</td>\n      <td>3,998</td>\n      <td>13</td>\n      <td>127,031</td>\n      <td>31.68</td>\n      <td>31.80</td>\n      <td>31.68</td>\n      <td>31.80</td>\n      <td>+</td>\n      <td>0.12</td>\n      <td>31.59</td>\n      <td>24</td>\n      <td>31.80</td>\n      <td>2</td>\n      <td>0.00</td>\n      <td>NaN</td>\n    </tr>\n    <tr>\n      <th>...</th>\n      <td>...</td>\n      <td>...</td>\n      <td>...</td>\n      <td>...</td>\n      <td>...</td>\n      <td>...</td>\n      <td>...</td>\n      <td>...</td>\n      <td>...</td>\n      <td>...</td>\n      <td>...</td>\n      <td>...</td>\n      <td>...</td>\n      <td>...</td>\n      <td>...</td>\n      <td>...</td>\n    </tr>\n    <tr>\n      <th>1145</th>\n      <td>9944</td>\n      <td>124,352</td>\n      <td>74</td>\n      <td>2,945,481</td>\n      <td>24.05</td>\n      <td>24.05</td>\n      <td>23.10</td>\n      <td>23.65</td>\n      <td>-</td>\n      <td>0.40</td>\n      <td>23.65</td>\n      <td>5</td>\n      <td>23.80</td>\n      <td>2</td>\n      <td>71.67</td>\n      <td>NaN</td>\n    </tr>\n    <tr>\n      <th>1146</th>\n      <td>9945</td>\n      <td>3,458,411</td>\n      <td>2,685</td>\n      <td>220,080,151</td>\n      <td>63.80</td>\n      <td>64.10</td>\n      <td>63.30</td>\n      <td>63.60</td>\n      <td>-</td>\n      <td>0.20</td>\n      <td>63.50</td>\n      <td>53</td>\n      <td>63.60</td>\n      <td>27</td>\n      <td>8.97</td>\n      <td>NaN</td>\n    </tr>\n    <tr>\n      <th>1147</th>\n      <td>9946</td>\n      <td>74,544</td>\n      <td>57</td>\n      <td>1,119,248</td>\n      <td>15.10</td>\n      <td>15.10</td>\n      <td>15.00</td>\n      <td>15.05</td>\n      <td>-</td>\n      <td>0.05</td>\n      <td>15.00</td>\n      <td>51</td>\n      <td>15.05</td>\n      <td>5</td>\n      <td>35.83</td>\n      <td>NaN</td>\n    </tr>\n    <tr>\n      <th>1148</th>\n      <td>9955</td>\n      <td>114,432</td>\n      <td>285</td>\n      <td>1,970,087</td>\n      <td>17.35</td>\n      <td>17.45</td>\n      <td>17.00</td>\n      <td>17.05</td>\n      <td>-</td>\n      <td>0.20</td>\n      <td>17.05</td>\n      <td>5</td>\n      <td>17.15</td>\n      <td>5</td>\n      <td>0.00</td>\n      <td>NaN</td>\n    </tr>\n    <tr>\n      <th>1149</th>\n      <td>9958</td>\n      <td>2,872,571</td>\n      <td>1,925</td>\n      <td>322,043,398</td>\n      <td>111.00</td>\n      <td>114.50</td>\n      <td>109.50</td>\n      <td>114.00</td>\n      <td>+</td>\n      <td>3.50</td>\n      <td>114.00</td>\n      <td>45</td>\n      <td>114.50</td>\n      <td>132</td>\n      <td>18.91</td>\n      <td>NaN</td>\n    </tr>\n  </tbody>\n</table>\n<p>1150 rows × 16 columns</p>\n</div>",
      "text/plain": "     Security Code Trade Volume Transaction    Trade Value Opening Price  \\\n0          =\"0050\"    7,064,552       8,298  1,034,974,917        146.00   \n1          =\"0051\"      135,357         185      8,244,702         60.90   \n2          =\"0052\"      882,163         488    119,306,921        134.65   \n3          =\"0053\"       28,349          25      1,996,804         70.25   \n4          =\"0054\"        3,998          13        127,031         31.68   \n...            ...          ...         ...            ...           ...   \n1145          9944      124,352          74      2,945,481         24.05   \n1146          9945    3,458,411       2,685    220,080,151         63.80   \n1147          9946       74,544          57      1,119,248         15.10   \n1148          9955      114,432         285      1,970,087         17.35   \n1149          9958    2,872,571       1,925    322,043,398        111.00   \n\n     Highest Price Lowest Price Closing Price Dir(+/-)  Change  \\\n0           147.35       146.00        146.40        +    0.90   \n1            61.30        60.75         60.90        +    0.10   \n2           135.95       134.65        135.20        +    1.05   \n3            70.75        70.25         70.45        +    0.50   \n4            31.80        31.68         31.80        +    0.12   \n...            ...          ...           ...      ...     ...   \n1145         24.05        23.10         23.65        -    0.40   \n1146         64.10        63.30         63.60        -    0.20   \n1147         15.10        15.00         15.05        -    0.05   \n1148         17.45        17.00         17.05        -    0.20   \n1149        114.50       109.50        114.00        +    3.50   \n\n     Last Best Bid Price Last Best Bid Volume Last Best Ask Price  \\\n0                 146.35                   32              146.40   \n1                  60.75                    2               60.90   \n2                 135.20                   54              135.35   \n3                  70.40                   20               70.45   \n4                  31.59                   24               31.80   \n...                  ...                  ...                 ...   \n1145               23.65                    5               23.80   \n1146               63.50                   53               63.60   \n1147               15.00                   51               15.05   \n1148               17.05                    5               17.15   \n1149              114.00                   45              114.50   \n\n     Last Best Ask Volume Price-Earning ratio  Unnamed: 15  \n0                      96                0.00          NaN  \n1                      45                0.00          NaN  \n2                       7                0.00          NaN  \n3                       1                0.00          NaN  \n4                       2                0.00          NaN  \n...                   ...                 ...          ...  \n1145                    2               71.67          NaN  \n1146                   27                8.97          NaN  \n1147                    5               35.83          NaN  \n1148                    5                0.00          NaN  \n1149                  132               18.91          NaN  \n\n[1150 rows x 16 columns]"
     },
     "execution_count": 84,
     "metadata": {},
     "output_type": "execute_result"
    }
   ],
   "source": [
    "pd.read_csv(r\"C:\\Users\\uc8c\\Desktop\\daa.eq-service-prefunding-challenge\\data\\taiwan-stockquotes-data-website-raw-010122-10312022\\MI_INDEX_ALLBUT0999_20220103_stock_quotes.csv\")"
   ]
  },
  {
   "cell_type": "code",
   "execution_count": null,
   "metadata": {},
   "outputs": [],
   "source": []
  }
 ],
 "metadata": {
  "kernelspec": {
   "display_name": "Python 3.8.11 64-bit ('DataScience': conda)",
   "name": "python3811jvsc74a57bd09b6cd22bcf3fdb6ab28c5b1da895fc65a9e91983caa5811cc7c5cb4e726bb27a"
  },
  "language_info": {
   "codemirror_mode": {
    "name": "ipython",
    "version": 3
   },
   "file_extension": ".py",
   "mimetype": "text/x-python",
   "name": "python",
   "nbconvert_exporter": "python",
   "pygments_lexer": "ipython3",
   "version": "3.8.11"
  },
  "orig_nbformat": 2
 },
 "nbformat": 4,
 "nbformat_minor": 2
}