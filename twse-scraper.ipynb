{
 "cells": [
  {
   "cell_type": "markdown",
   "metadata": {},
   "source": [
    "# Scraper Utility to obtain data from twse website\r\n",
    "## References\r\n",
    "- https://bitbucket.opst.c1.vanguard.com/users/uc8c/repos/gidm/browse/fdm1/fdm1.py\r\n",
    "- https://www.twse.com.tw/en/page/trading/exchange/BWIBBU_d.html - P/E, P/B ratios\r\n",
    "- https://www.twse.com.tw/en/page/trading/exchange/TWTASU.html - short sale vol\r\n",
    "- https://www.twse.com.tw/en/page/trading/exchange/MI_INDEX.html#subtitle7 - daily summary - all\r\n",
    "- https://www.twse.com.tw/en/page/trading/exchange/TWT85U.html - full delivery securities\r\n",
    "- https://emops.twse.com.tw/server-java/t58query#\r\n",
    "- https://app2.msci.com/eqb/custom_indexes/tw_performance.html - MSCI index constituents\r\n"
   ]
  },
  {
   "cell_type": "code",
   "execution_count": 48,
   "metadata": {},
   "outputs": [],
   "source": [
    "urls = {\r\n",
    "    \"ratios\" : 'https://www.twse.com.tw/en/page/trading/exchange/BWIBBU_d.html',\r\n",
    "    \"short_sales\" : 'https://www.twse.com.tw/en/page/trading/exchange/TWTASU.html',\r\n",
    "    \"summary_px_vol\" : 'https://www.twse.com.tw/en/page/trading/exchange/MI_INDEX.html#subtitle7',\r\n",
    "    \"full_delivery\": 'https://www.twse.com.tw/en/page/trading/exchange/TWT85U.html'\r\n",
    "}"
   ]
  },
  {
   "cell_type": "code",
   "execution_count": 110,
   "metadata": {},
   "outputs": [],
   "source": [
    "#for Chrome bot stuff\r\n",
    "from selenium import webdriver\r\n",
    "from selenium.webdriver.chrome.options import Options\r\n",
    "from selenium.webdriver.common.by import By\r\n",
    "from selenium.webdriver.common.keys import Keys\r\n",
    "from selenium.webdriver.support.ui import Select\r\n",
    "from selenium.webdriver import ActionChains\r\n",
    "import time\r\n",
    "import pandas as pd\r\n",
    "import shutil\r\n",
    "import glob\r\n",
    "import re"
   ]
  },
  {
   "cell_type": "code",
   "execution_count": 3,
   "metadata": {},
   "outputs": [],
   "source": [
    "pd.options.display.max_rows = 2000"
   ]
  },
  {
   "cell_type": "code",
   "execution_count": 4,
   "metadata": {},
   "outputs": [],
   "source": [
    "def createWebDriver():\r\n",
    "    \"\"\" creates the Chrome web driver bot \"\"\"\r\n",
    "    chrome_path = os.getcwd()+\"\\\\chromedriver.exe\"\r\n",
    "    #chrome_path = \"C:\\\\Users\\\\uc8c\\\\OneDrive - Vanguard\\\\Repos on Desktop - Laptop Migration 6-26-21\\\\GIDM\\\\gidm\\\\fdm1\\\\drivers\"\r\n",
    "    chrome_options = Options()\r\n",
    "    #chrome_options.add_argument(\"--headless\") \r\n",
    "    driver = webdriver.Chrome(executable_path = chrome_path, chrome_options=chrome_options)\r\n",
    "\r\n",
    "    return driver"
   ]
  },
  {
   "cell_type": "code",
   "execution_count": 5,
   "metadata": {},
   "outputs": [],
   "source": [
    "def get_full_delivery_data(driver, start_date='1/1/2022', end_date='1/5/2022'):\r\n",
    "    \"\"\" Used to obtain full delivery data from the twse website \"\"\"\r\n",
    "   \r\n",
    "    driver.get(urls['full_delivery'])\r\n",
    "    \r\n",
    "    date_range = pd.bdate_range(start=start_date, end=end_date)\r\n",
    "\r\n",
    "    for d in date_range:\r\n",
    "        #select month\r\n",
    "        select_mo = Select(driver.find_element_by_xpath('//*[@id=\"d1\"]/select[2]'))\r\n",
    "        select_mo.select_by_index(d.month-1)\r\n",
    "        time.sleep(1)\r\n",
    "\r\n",
    "        #select day\r\n",
    "        select_day = Select(driver.find_element_by_xpath('//*[@id=\"d1\"]/select[3]'))\r\n",
    "        select_day.select_by_index(d.day-1)\r\n",
    "        time.sleep(1)\r\n",
    "\r\n",
    "        #click query button\r\n",
    "        driver.find_element_by_tag_name('a.button.search').click()\r\n",
    "        time.sleep(4)\r\n",
    "\r\n",
    "        #click download csv button\r\n",
    "        driver.find_element_by_xpath('//*[@id=\"reports\"]/div[1]/a[2]').click()\r\n",
    "        time.sleep(4)"
   ]
  },
  {
   "cell_type": "code",
   "execution_count": 6,
   "metadata": {},
   "outputs": [],
   "source": [
    "def get_short_sales_data(driver, start_date='1/1/2022', end_date='1/5/2022'):\r\n",
    "    \"\"\" Used to obtain short sales data from twse website \"\"\"\r\n",
    "   \r\n",
    "    driver.get(urls['short_sales'])\r\n",
    "    \r\n",
    "    date_range = pd.bdate_range(start=start_date, end=end_date)\r\n",
    "\r\n",
    "    for d in date_range:\r\n",
    "        #select month\r\n",
    "        select_mo = Select(driver.find_element_by_xpath('//*[@id=\"d1\"]/select[2]'))\r\n",
    "        select_mo.select_by_index(d.month-1)\r\n",
    "        time.sleep(1)\r\n",
    "\r\n",
    "        #select day\r\n",
    "        select_day = Select(driver.find_element_by_xpath('//*[@id=\"d1\"]/select[3]'))\r\n",
    "        select_day.select_by_index(d.day-1)\r\n",
    "        time.sleep(1)\r\n",
    "\r\n",
    "        #click query button\r\n",
    "        driver.find_element_by_tag_name('a.button.search').click()\r\n",
    "        time.sleep(4)\r\n",
    "\r\n",
    "        #click download csv button\r\n",
    "        driver.find_element_by_xpath('//*[@id=\"reports\"]/div[1]/a[2]').click()\r\n",
    "        time.sleep(4)"
   ]
  },
  {
   "cell_type": "code",
   "execution_count": 46,
   "metadata": {},
   "outputs": [],
   "source": [
    "def get_ratios_data(driver, start_date='1/1/2022', end_date='1/5/2022'):\r\n",
    "    \"\"\" Used to obtain ratios data from twse website \"\"\"\r\n",
    "   \r\n",
    "    driver.get(urls['ratios'])\r\n",
    "    date_range = pd.bdate_range(start=start_date, end=end_date) \r\n",
    "\r\n",
    "    for d in date_range:\r\n",
    "        #select month\r\n",
    "        select_mo = Select(driver.find_element_by_xpath('//*[@id=\"d1\"]/select[2]'))\r\n",
    "        select_mo.select_by_index(d.month-1)\r\n",
    "        time.sleep(1)\r\n",
    "\r\n",
    "        #select day\r\n",
    "        select_day = Select(driver.find_element_by_xpath('//*[@id=\"d1\"]/select[3]'))\r\n",
    "        select_day.select_by_index(d.day-1)\r\n",
    "        time.sleep(1)\r\n",
    "\r\n",
    "        #click query button\r\n",
    "        driver.find_element_by_tag_name('a.button.search').click()\r\n",
    "        time.sleep(3)\r\n",
    "\r\n",
    "        try:\r\n",
    "            #click download csv button\r\n",
    "            driver.find_element_by_xpath('//*[@id=\"reports\"]/div[1]/a[2]').click()\r\n",
    "        except:\r\n",
    "            print(f\"Error downloading data for: {d}\")\r\n",
    "        time.sleep(3)"
   ]
  },
  {
   "cell_type": "code",
   "execution_count": 49,
   "metadata": {},
   "outputs": [],
   "source": [
    "def get_summary_data(driver, start_date='1/1/2022', end_date='1/5/2022'):\r\n",
    "    \"\"\" Used to obtain summary data from twse website \"\"\"\r\n",
    "   \r\n",
    "    driver.get(urls['summary_px_vol'])\r\n",
    "    date_range = pd.bdate_range(start=start_date, end=end_date) \r\n",
    "\r\n",
    "    for d in date_range:\r\n",
    "        #select month\r\n",
    "        select_mo = Select(driver.find_element_by_xpath('//*[@id=\"d1\"]/select[2]'))\r\n",
    "        select_mo.select_by_index(d.month-1)\r\n",
    "        time.sleep(1)\r\n",
    "\r\n",
    "        #select day\r\n",
    "        select_day = Select(driver.find_element_by_xpath('//*[@id=\"d1\"]/select[3]'))\r\n",
    "        select_day.select_by_index(d.day-1)\r\n",
    "        time.sleep(1)\r\n",
    "\r\n",
    "        #select category\r\n",
    "        select_cat = Select(driver.find_element_by_xpath('//*[@id=\"main-form\"]/div/div/form/select'))\r\n",
    "        select_cat.select_by_visible_text('All(no Warrant & CBBC & OCBBC)')\r\n",
    "\r\n",
    "        #click query button\r\n",
    "        driver.find_element_by_tag_name('a.button.search').click()\r\n",
    "        time.sleep(3)\r\n",
    "\r\n",
    "        try:\r\n",
    "            #click download csv button\r\n",
    "            driver.find_element_by_xpath('//*[@id=\"reports\"]/div[1]/a[2]').click()\r\n",
    "        except:\r\n",
    "            print(f\"Error downloading data for: {d}\")\r\n",
    "        time.sleep(3)"
   ]
  },
  {
   "cell_type": "code",
   "execution_count": 8,
   "metadata": {},
   "outputs": [
    {
     "name": "stderr",
     "output_type": "stream",
     "text": [
      "C:\\Users\\uc8c\\AppData\\Local\\Temp/ipykernel_30916/1570040323.py:7: DeprecationWarning: use options instead of chrome_options\n",
      "  driver = webdriver.Chrome(executable_path = chrome_path, chrome_options=chrome_options)\n"
     ]
    },
    {
     "name": "stdout",
     "output_type": "stream",
     "text": [
      "Successfully created Chrome bot\n"
     ]
    }
   ],
   "source": [
    "################set up Chrome driver#######\r\n",
    "try:   \r\n",
    "    driver = createWebDriver()\r\n",
    "    print(\"Successfully created Chrome bot\")\r\n",
    "    time.sleep(1)\r\n",
    "\r\n",
    "except:\r\n",
    "    print(\"Unexpected error:\", sys.exc_info()[0])\r\n",
    "    #time.sleep(1*60)\r\n",
    "    raise"
   ]
  },
  {
   "cell_type": "code",
   "execution_count": 83,
   "metadata": {},
   "outputs": [],
   "source": [
    "#run to obtain full delivery data, via downloaded csv files\r\n",
    "get_full_delivery_data(driver, start_date='1/2/2022', end_date='1/5/2022')"
   ]
  },
  {
   "cell_type": "code",
   "execution_count": 86,
   "metadata": {},
   "outputs": [
    {
     "data": {
      "text/plain": "'c:\\\\Users\\\\uc8c\\\\Desktop\\\\daa.eq-service-prefunding-challenge\\\\taiwan-watchlist-data-website-raw-01012022-10312022.zip'"
     },
     "execution_count": 86,
     "metadata": {},
     "output_type": "execute_result"
    }
   ],
   "source": [
    "#make zip file\r\n",
    "shutil.make_archive(\"taiwan-watchlist-data-website-raw-01012022-10312022\", 'zip', './data/')"
   ]
  },
  {
   "cell_type": "code",
   "execution_count": 99,
   "metadata": {},
   "outputs": [],
   "source": [
    "#run to obtain short sales data, via downloaded csv files\r\n",
    "#(NT$, trading unit/thousand shares)\r\n",
    "#use Margin Short Sales column\r\n",
    "get_short_sales_data(driver, start_date='5/2/2022', end_date='10/31/2022')"
   ]
  },
  {
   "cell_type": "code",
   "execution_count": 100,
   "metadata": {},
   "outputs": [
    {
     "data": {
      "text/plain": "'c:\\\\Users\\\\uc8c\\\\Desktop\\\\daa.eq-service-prefunding-challenge\\\\taiwan-shortsale-data-website-raw-01012022-10312022.zip'"
     },
     "execution_count": 100,
     "metadata": {},
     "output_type": "execute_result"
    }
   ],
   "source": [
    "#make zip file\r\n",
    "shutil.make_archive(\"taiwan-shortsale-data-website-raw-01012022-10312022\", 'zip', './data/')"
   ]
  },
  {
   "cell_type": "code",
   "execution_count": 45,
   "metadata": {},
   "outputs": [
    {
     "data": {
      "application/x.notebook.stdout": "Error downloading data for: 2022-01-27 00:00:00\nError downloading data for: 2022-01-28 00:00:00\nError downloading data for: 2022-01-31 00:00:00\nError downloading data for: 2022-02-01 00:00:00\nError downloading data for: 2022-02-02 00:00:00\nError downloading data for: 2022-02-03 00:00:00\nError downloading data for: 2022-02-04 00:00:00\nError downloading data for: 2022-02-28 00:00:00\nError downloading data for: 2022-03-21 00:00:00\nError downloading data for: 2022-04-04 00:00:00\nError downloading data for: 2022-04-05 00:00:00\nError downloading data for: 2022-05-02 00:00:00\nError downloading data for: 2022-06-03 00:00:00\nError downloading data for: 2022-08-11 00:00:00\nError downloading data for: 2022-08-12 00:00:00\nError downloading data for: 2022-08-26 00:00:00\nError downloading data for: 2022-09-09 00:00:00\nError downloading data for: 2022-10-10 00:00:00\nError downloading data for: 2022-10-26 00:00:00\n"
     },
     "output_type": "unknown"
    }
   ],
   "source": [
    "get_ratios_data(driver, start_date='1/27/2022', end_date='10/31/2022')"
   ]
  },
  {
   "cell_type": "code",
   "execution_count": 90,
   "metadata": {},
   "outputs": [
    {
     "data": {
      "text/plain": "'c:\\\\Users\\\\uc8c\\\\Desktop\\\\daa.eq-service-prefunding-challenge\\\\all_data.zip'"
     },
     "execution_count": 90,
     "metadata": {},
     "output_type": "execute_result"
    }
   ],
   "source": [
    "#make zip file\r\n",
    "shutil.make_archive(\"all_data\", 'zip', './data')"
   ]
  },
  {
   "cell_type": "code",
   "execution_count": 51,
   "metadata": {},
   "outputs": [
    {
     "name": "stdout",
     "output_type": "stream",
     "text": [
      "Error downloading data for: 2022-01-27 00:00:00\n",
      "Error downloading data for: 2022-01-28 00:00:00\n",
      "Error downloading data for: 2022-01-31 00:00:00\n",
      "Error downloading data for: 2022-02-01 00:00:00\n",
      "Error downloading data for: 2022-02-02 00:00:00\n",
      "Error downloading data for: 2022-02-03 00:00:00\n",
      "Error downloading data for: 2022-02-04 00:00:00\n",
      "Error downloading data for: 2022-02-28 00:00:00\n",
      "Error downloading data for: 2022-04-04 00:00:00\n",
      "Error downloading data for: 2022-04-05 00:00:00\n",
      "Error downloading data for: 2022-05-02 00:00:00\n",
      "Error downloading data for: 2022-06-03 00:00:00\n",
      "Error downloading data for: 2022-09-09 00:00:00\n",
      "Error downloading data for: 2022-10-10 00:00:00\n"
     ]
    }
   ],
   "source": [
    "get_summary_data(driver, start_date='1/6/2022', end_date='10/31/2022')"
   ]
  },
  {
   "cell_type": "code",
   "execution_count": 88,
   "metadata": {},
   "outputs": [
    {
     "data": {
      "text/plain": "'c:\\\\Users\\\\uc8c\\\\Desktop\\\\daa.eq-service-prefunding-challenge\\\\taiwan-stockquotes-data-website-raw-010122-10312022.zip'"
     },
     "execution_count": 88,
     "metadata": {},
     "output_type": "execute_result"
    }
   ],
   "source": [
    "#make zip file\r\n",
    "shutil.make_archive(\"taiwan-stockquotes-data-website-raw-010122-10312022\", 'zip', './data')"
   ]
  },
  {
   "cell_type": "code",
   "execution_count": 7,
   "metadata": {},
   "outputs": [],
   "source": [
    "summary_path = os.path.join(os.getcwd(), \"other_data\", \"taiwan-summary-website-raw-01012022-10312022\")"
   ]
  },
  {
   "cell_type": "code",
   "execution_count": 61,
   "metadata": {},
   "outputs": [
    {
     "data": {
      "text/plain": "'c:\\\\Users\\\\uc8c\\\\Desktop\\\\daa.eq-service-prefunding-challenge\\\\data\\\\taiwan-summary-website-raw-01012022-10312022'"
     },
     "execution_count": 61,
     "metadata": {},
     "output_type": "execute_result"
    }
   ],
   "source": [
    "summary_path"
   ]
  },
  {
   "cell_type": "code",
   "execution_count": 63,
   "metadata": {},
   "outputs": [],
   "source": [
    "summary_files = glob.glob(os.path.join(summary_path, '*'))"
   ]
  },
  {
   "cell_type": "code",
   "execution_count": 79,
   "metadata": {},
   "outputs": [],
   "source": [
    "#extacting just the stock quotes from the summary files.\r\n",
    "for filepath in summary_files[5:]:\r\n",
    "    data_start = 1000000\r\n",
    "    with open(filepath, 'r') as f:\r\n",
    "        with open(os.path.join(os.path.split(filepath)[0], os.path.split(filepath)[1][:-4]+\"_stock_quotes.csv\"), 'w') as temp:\r\n",
    "            for i, line in enumerate(f):\r\n",
    "                try:\r\n",
    "                    if \"Security Code\" in line:\r\n",
    "                        data_start = i\r\n",
    "                        temp.write(line)\r\n",
    "\r\n",
    "                    if (i > data_start):\r\n",
    "                        if \"Remarks:\" in line:\r\n",
    "                            break\r\n",
    "                        temp.write(line)\r\n",
    "                        \r\n",
    "                except:\r\n",
    "                    print(f\"Error reading line: {i}\")\r\n",
    "                    errors.append(i)\r\n"
   ]
  },
  {
   "cell_type": "code",
   "execution_count": 153,
   "metadata": {},
   "outputs": [],
   "source": [
    "info = {\r\n",
    "        \"watchlist\" : {\r\n",
    "                        \"globpath\" : \"./all_data/taiwan-watchlist-data-website-raw-010122-10312022/*\",\r\n",
    "                        \"cols_to_drop\" : ['Unnamed: 2'],\r\n",
    "                        \"skiprows\" : 1,\r\n",
    "                        \"skipfooter\": 4,\r\n",
    "                        \"date_parse\": (-12,-4),\r\n",
    "                        \"usecols\": None,\r\n",
    "                        \"dtypes\": {'Security Code':\"object\", 'Periodic Call Auction Trading (see Remark below)':\"object\",'file_date':pd.Timestamp}\r\n",
    "                },\r\n",
    "    \r\n",
    "        \"shortsales\" : {\r\n",
    "                \"globpath\" : \"./all_data/taiwan-shortsale-data-website-raw-01012022-10312022/*\",\r\n",
    "                \"cols_to_drop\": None,\r\n",
    "                \"usecols\": [0,1,2],\r\n",
    "                \"skiprows\" : 2,\r\n",
    "                \"skipfooter\": 4,\r\n",
    "                \"date_parse\": (-12,-4),\r\n",
    "                \"dtypes\" : {'Security Code': \"object\", \"Trading Volume\": \"Int64\", \"Trading Value\": \"Int64\", \"file_date\": pd.Timestamp}\r\n",
    "        },\r\n",
    "\r\n",
    "        \"ratios\" :{\r\n",
    "                \"globpath\" : \"./all_data/taiwan-pe-pb-ratios-website-raw-01012022-10312022/*\",\r\n",
    "                \"cols_to_drop\": None,\r\n",
    "                \"skiprows\" :1, \r\n",
    "                \"skipfooter\" : 2, \r\n",
    "                \"usecols\" : [0,1,2,3,4,5],\r\n",
    "                \"date_parse\": (-12,-4),\r\n",
    "                \"dtypes\": {'Security Code':\"object\", 'Dividend yield (%)':\"float\", 'Dividend year':\"Int32\", 'P/E ratio':\"float\",\r\n",
    "       'P/B ratio':\"float\", 'Fiscal year / quarter':\"object\", 'file_date': pd.Timestamp}\r\n",
    "\r\n",
    "        },\r\n",
    "\r\n",
    "        \"stockquotes\" : {\r\n",
    "                        \"globpath\" : \"./all_data/taiwan-stockquotes-data-website-cleaned-010122-10312022/*\",\r\n",
    "                        \"cols_to_drop\" : ['Unnamed: 15'],\r\n",
    "                        \"skiprows\" : 0,\r\n",
    "                        \"skipfooter\": 0,\r\n",
    "                        \"date_parse\": (-33,-25),\r\n",
    "                        \"usecols\": None,\r\n",
    "                        \"dtypes\" : {'Security Code':\"object\", 'Trade Volume':\"Int64\", 'Transaction':\"Int64\", 'Trade Value':\"Int64\",\r\n",
    "                                'Opening Price':\"float\", 'Highest Price':\"float\", 'Lowest Price':\"float\", 'Closing Price':\"float\",\r\n",
    "                                'Dir(+/-)':\"object\", 'Change':\"float\", 'Last Best Bid Price':\"float\", 'Last Best Bid Volume':\"Int64\",\r\n",
    "                                'Last Best Ask Price':\"float\", 'Last Best Ask Volume':\"Int64\", 'Price-Earning ratio':\"float\"\r\n",
    "                                }\r\n",
    "                        \r\n",
    "        },\r\n",
    "}"
   ]
  },
  {
   "cell_type": "code",
   "execution_count": 197,
   "metadata": {},
   "outputs": [],
   "source": [
    "def make_frame(name):\r\n",
    "    files = glob.glob(info[name][\"globpath\"])\r\n",
    "    frames = []\r\n",
    "    \r\n",
    "    for file in files:\r\n",
    "        try: \r\n",
    "            df = pd.read_csv(file, \r\n",
    "                            skiprows=info[name][\"skiprows\"], \r\n",
    "                            skipfooter=info[name][\"skipfooter\"], \r\n",
    "                            encoding_errors='replace', \r\n",
    "                            usecols=info[name][\"usecols\"], \r\n",
    "                            na_values=['-','--'],\r\n",
    "                            thousands=',',\r\n",
    "                            dtype=info[name][\"dtypes\"]\r\n",
    "                        )\r\n",
    "            df['file_date'] = pd.Timestamp(file[info[name][\"date_parse\"][0]:info[name][\"date_parse\"][1]])\r\n",
    "            frames.append(df)\r\n",
    "\r\n",
    "        except:\r\n",
    "            print(f\"Error reading csv file: {file}\")\r\n",
    "            continue\r\n",
    "    \r\n",
    "    df = pd.concat(frames, axis=0)\r\n",
    "    \r\n",
    "    if info[name][\"cols_to_drop\"] is not None:\r\n",
    "        df.drop(columns=info[name][\"cols_to_drop\"], inplace=True)\r\n",
    "    \r\n",
    "    #extract security code\r\n",
    "    df['Security Code Clean'] = df['Security Code'].str.extract(r'(\\d{4,}[a-zA-Z]*)')\r\n",
    "\r\n",
    "    #try to convert to optimal dtypes\r\n",
    "    df.convert_dtypes()\r\n",
    "\r\n",
    "    df.to_parquet(name+\"_01012022_10312022\")\r\n",
    "    return df\r\n",
    "    "
   ]
  },
  {
   "cell_type": "code",
   "execution_count": 106,
   "metadata": {},
   "outputs": [],
   "source": [
    "###CLEAN STOCKQUOTES DATA\r\n",
    "#regex to locate thousands separators\r\n",
    "p = re.compile(r'(?<=\\d),(?=\\d)')\r\n",
    "\r\n",
    "#iterate through stockquotes files, remove thousands separators, and save as new files\r\n",
    "for filepath in stockquotes_files:\r\n",
    "    oldpath = os.path.split(filepath)\r\n",
    "    with open(filepath, 'r') as orig:\r\n",
    "        new_path = os.path.join(os.path.join(os.getcwd(), \"all_data\", \"taiwan-stockquotes-data-website-cleaned-010122-10312022\"), oldpath[1][:-4]+\"_cleaned.csv\")\r\n",
    "        with open(new_path, 'w') as new:\r\n",
    "            for line in orig:\r\n",
    "                new.write(re.subn(p,\"\",line)[0])"
   ]
  },
  {
   "cell_type": "code",
   "execution_count": 200,
   "metadata": {},
   "outputs": [],
   "source": [
    "stockquotes_df = make_frame(\"stockquotes\")"
   ]
  },
  {
   "cell_type": "code",
   "execution_count": 201,
   "metadata": {},
   "outputs": [
    {
     "name": "stdout",
     "output_type": "stream",
     "text": [
      "<class 'pandas.core.frame.DataFrame'>\n",
      "Int64Index: 235301 entries, 0 to 1175\n",
      "Data columns (total 17 columns):\n",
      " #   Column                Non-Null Count   Dtype         \n",
      "---  ------                --------------   -----         \n",
      " 0   Security Code         235301 non-null  object        \n",
      " 1   Trade Volume          235301 non-null  Int64         \n",
      " 2   Transaction           235301 non-null  Int64         \n",
      " 3   Trade Value           235301 non-null  Int64         \n",
      " 4   Opening Price         232340 non-null  float64       \n",
      " 5   Highest Price         232340 non-null  float64       \n",
      " 6   Lowest Price          232340 non-null  float64       \n",
      " 7   Closing Price         232340 non-null  float64       \n",
      " 8   Dir(+/-)              125784 non-null  object        \n",
      " 9   Change                235301 non-null  float64       \n",
      " 10  Last Best Bid Price   234952 non-null  float64       \n",
      " 11  Last Best Bid Volume  235292 non-null  Int64         \n",
      " 12  Last Best Ask Price   233834 non-null  float64       \n",
      " 13  Last Best Ask Volume  235292 non-null  Int64         \n",
      " 14  Price-Earning ratio   235301 non-null  float64       \n",
      " 15  file_date             235301 non-null  datetime64[ns]\n",
      " 16  Security Code Clean   235301 non-null  object        \n",
      "dtypes: Int64(5), datetime64[ns](1), float64(8), object(3)\n",
      "memory usage: 33.4+ MB\n"
     ]
    }
   ],
   "source": [
    "stockquotes_df.info()"
   ]
  },
  {
   "cell_type": "code",
   "execution_count": 202,
   "metadata": {},
   "outputs": [
    {
     "data": {
      "text/html": "<div>\n<style scoped>\n    .dataframe tbody tr th:only-of-type {\n        vertical-align: middle;\n    }\n\n    .dataframe tbody tr th {\n        vertical-align: top;\n    }\n\n    .dataframe thead th {\n        text-align: right;\n    }\n</style>\n<table border=\"1\" class=\"dataframe\">\n  <thead>\n    <tr style=\"text-align: right;\">\n      <th></th>\n      <th>Security Code</th>\n      <th>Trade Volume</th>\n      <th>Transaction</th>\n      <th>Trade Value</th>\n      <th>Opening Price</th>\n      <th>Highest Price</th>\n      <th>Lowest Price</th>\n      <th>Closing Price</th>\n      <th>Dir(+/-)</th>\n      <th>Change</th>\n      <th>Last Best Bid Price</th>\n      <th>Last Best Bid Volume</th>\n      <th>Last Best Ask Price</th>\n      <th>Last Best Ask Volume</th>\n      <th>Price-Earning ratio</th>\n      <th>file_date</th>\n      <th>Security Code Clean</th>\n    </tr>\n  </thead>\n  <tbody>\n    <tr>\n      <th>0</th>\n      <td>=\"0050\"</td>\n      <td>7064552</td>\n      <td>8298</td>\n      <td>1034974917</td>\n      <td>146.00</td>\n      <td>147.35</td>\n      <td>146.00</td>\n      <td>146.40</td>\n      <td>+</td>\n      <td>0.90</td>\n      <td>146.35</td>\n      <td>32</td>\n      <td>146.40</td>\n      <td>96</td>\n      <td>0.00</td>\n      <td>2022-01-03</td>\n      <td>0050</td>\n    </tr>\n    <tr>\n      <th>1</th>\n      <td>=\"0051\"</td>\n      <td>135357</td>\n      <td>185</td>\n      <td>8244702</td>\n      <td>60.90</td>\n      <td>61.30</td>\n      <td>60.75</td>\n      <td>60.90</td>\n      <td>+</td>\n      <td>0.10</td>\n      <td>60.75</td>\n      <td>2</td>\n      <td>60.90</td>\n      <td>45</td>\n      <td>0.00</td>\n      <td>2022-01-03</td>\n      <td>0051</td>\n    </tr>\n    <tr>\n      <th>2</th>\n      <td>=\"0052\"</td>\n      <td>882163</td>\n      <td>488</td>\n      <td>119306921</td>\n      <td>134.65</td>\n      <td>135.95</td>\n      <td>134.65</td>\n      <td>135.20</td>\n      <td>+</td>\n      <td>1.05</td>\n      <td>135.20</td>\n      <td>54</td>\n      <td>135.35</td>\n      <td>7</td>\n      <td>0.00</td>\n      <td>2022-01-03</td>\n      <td>0052</td>\n    </tr>\n    <tr>\n      <th>3</th>\n      <td>=\"0053\"</td>\n      <td>28349</td>\n      <td>25</td>\n      <td>1996804</td>\n      <td>70.25</td>\n      <td>70.75</td>\n      <td>70.25</td>\n      <td>70.45</td>\n      <td>+</td>\n      <td>0.50</td>\n      <td>70.40</td>\n      <td>20</td>\n      <td>70.45</td>\n      <td>1</td>\n      <td>0.00</td>\n      <td>2022-01-03</td>\n      <td>0053</td>\n    </tr>\n    <tr>\n      <th>4</th>\n      <td>=\"0054\"</td>\n      <td>3998</td>\n      <td>13</td>\n      <td>127031</td>\n      <td>31.68</td>\n      <td>31.80</td>\n      <td>31.68</td>\n      <td>31.80</td>\n      <td>+</td>\n      <td>0.12</td>\n      <td>31.59</td>\n      <td>24</td>\n      <td>31.80</td>\n      <td>2</td>\n      <td>0.00</td>\n      <td>2022-01-03</td>\n      <td>0054</td>\n    </tr>\n    <tr>\n      <th>...</th>\n      <td>...</td>\n      <td>...</td>\n      <td>...</td>\n      <td>...</td>\n      <td>...</td>\n      <td>...</td>\n      <td>...</td>\n      <td>...</td>\n      <td>...</td>\n      <td>...</td>\n      <td>...</td>\n      <td>...</td>\n      <td>...</td>\n      <td>...</td>\n      <td>...</td>\n      <td>...</td>\n      <td>...</td>\n    </tr>\n    <tr>\n      <th>1171</th>\n      <td>9944</td>\n      <td>71751</td>\n      <td>38</td>\n      <td>1459923</td>\n      <td>20.35</td>\n      <td>20.40</td>\n      <td>20.25</td>\n      <td>20.40</td>\n      <td>+</td>\n      <td>0.05</td>\n      <td>20.35</td>\n      <td>2</td>\n      <td>20.40</td>\n      <td>25</td>\n      <td>4.11</td>\n      <td>2022-10-31</td>\n      <td>9944</td>\n    </tr>\n    <tr>\n      <th>1172</th>\n      <td>9945</td>\n      <td>6956898</td>\n      <td>4827</td>\n      <td>276325555</td>\n      <td>40.30</td>\n      <td>40.50</td>\n      <td>39.25</td>\n      <td>39.60</td>\n      <td>NaN</td>\n      <td>0.40</td>\n      <td>39.60</td>\n      <td>93</td>\n      <td>39.65</td>\n      <td>5</td>\n      <td>5.34</td>\n      <td>2022-10-31</td>\n      <td>9945</td>\n    </tr>\n    <tr>\n      <th>1173</th>\n      <td>9946</td>\n      <td>11298</td>\n      <td>18</td>\n      <td>130561</td>\n      <td>11.45</td>\n      <td>11.80</td>\n      <td>11.45</td>\n      <td>11.55</td>\n      <td>+</td>\n      <td>0.05</td>\n      <td>11.50</td>\n      <td>2</td>\n      <td>11.55</td>\n      <td>1</td>\n      <td>18.33</td>\n      <td>2022-10-31</td>\n      <td>9946</td>\n    </tr>\n    <tr>\n      <th>1174</th>\n      <td>9955</td>\n      <td>131905</td>\n      <td>147</td>\n      <td>2244930</td>\n      <td>17.05</td>\n      <td>17.10</td>\n      <td>16.75</td>\n      <td>17.05</td>\n      <td>+</td>\n      <td>0.25</td>\n      <td>17.00</td>\n      <td>1</td>\n      <td>17.05</td>\n      <td>2</td>\n      <td>0.00</td>\n      <td>2022-10-31</td>\n      <td>9955</td>\n    </tr>\n    <tr>\n      <th>1175</th>\n      <td>9958</td>\n      <td>6231522</td>\n      <td>5543</td>\n      <td>489629002</td>\n      <td>81.70</td>\n      <td>81.70</td>\n      <td>77.00</td>\n      <td>77.00</td>\n      <td>NaN</td>\n      <td>3.80</td>\n      <td>77.00</td>\n      <td>3</td>\n      <td>77.20</td>\n      <td>7</td>\n      <td>19.35</td>\n      <td>2022-10-31</td>\n      <td>9958</td>\n    </tr>\n  </tbody>\n</table>\n<p>235301 rows × 17 columns</p>\n</div>",
      "text/plain": "     Security Code  Trade Volume  Transaction  Trade Value  Opening Price  \\\n0          =\"0050\"       7064552         8298   1034974917         146.00   \n1          =\"0051\"        135357          185      8244702          60.90   \n2          =\"0052\"        882163          488    119306921         134.65   \n3          =\"0053\"         28349           25      1996804          70.25   \n4          =\"0054\"          3998           13       127031          31.68   \n...            ...           ...          ...          ...            ...   \n1171          9944         71751           38      1459923          20.35   \n1172          9945       6956898         4827    276325555          40.30   \n1173          9946         11298           18       130561          11.45   \n1174          9955        131905          147      2244930          17.05   \n1175          9958       6231522         5543    489629002          81.70   \n\n      Highest Price  Lowest Price  Closing Price Dir(+/-)  Change  \\\n0            147.35        146.00         146.40        +    0.90   \n1             61.30         60.75          60.90        +    0.10   \n2            135.95        134.65         135.20        +    1.05   \n3             70.75         70.25          70.45        +    0.50   \n4             31.80         31.68          31.80        +    0.12   \n...             ...           ...            ...      ...     ...   \n1171          20.40         20.25          20.40        +    0.05   \n1172          40.50         39.25          39.60      NaN    0.40   \n1173          11.80         11.45          11.55        +    0.05   \n1174          17.10         16.75          17.05        +    0.25   \n1175          81.70         77.00          77.00      NaN    3.80   \n\n      Last Best Bid Price  Last Best Bid Volume  Last Best Ask Price  \\\n0                  146.35                    32               146.40   \n1                   60.75                     2                60.90   \n2                  135.20                    54               135.35   \n3                   70.40                    20                70.45   \n4                   31.59                    24                31.80   \n...                   ...                   ...                  ...   \n1171                20.35                     2                20.40   \n1172                39.60                    93                39.65   \n1173                11.50                     2                11.55   \n1174                17.00                     1                17.05   \n1175                77.00                     3                77.20   \n\n      Last Best Ask Volume  Price-Earning ratio  file_date Security Code Clean  \n0                       96                 0.00 2022-01-03                0050  \n1                       45                 0.00 2022-01-03                0051  \n2                        7                 0.00 2022-01-03                0052  \n3                        1                 0.00 2022-01-03                0053  \n4                        2                 0.00 2022-01-03                0054  \n...                    ...                  ...        ...                 ...  \n1171                    25                 4.11 2022-10-31                9944  \n1172                     5                 5.34 2022-10-31                9945  \n1173                     1                18.33 2022-10-31                9946  \n1174                     2                 0.00 2022-10-31                9955  \n1175                     7                19.35 2022-10-31                9958  \n\n[235301 rows x 17 columns]"
     },
     "execution_count": 202,
     "metadata": {},
     "output_type": "execute_result"
    }
   ],
   "source": [
    "stockquotes_df"
   ]
  },
  {
   "cell_type": "code",
   "execution_count": 203,
   "metadata": {},
   "outputs": [],
   "source": [
    "stockquotes = pd.read_parquet(r\"C:\\Users\\uc8c\\Desktop\\daa.eq-service-prefunding-challenge\\use_this_data\\stockquotes_01012022_10312022\")"
   ]
  },
  {
   "cell_type": "code",
   "execution_count": 204,
   "metadata": {},
   "outputs": [
    {
     "name": "stdout",
     "output_type": "stream",
     "text": [
      "<class 'pandas.core.frame.DataFrame'>\n",
      "Int64Index: 235301 entries, 0 to 1175\n",
      "Data columns (total 17 columns):\n",
      " #   Column                Non-Null Count   Dtype         \n",
      "---  ------                --------------   -----         \n",
      " 0   Security Code         235301 non-null  object        \n",
      " 1   Trade Volume          235301 non-null  Int64         \n",
      " 2   Transaction           235301 non-null  Int64         \n",
      " 3   Trade Value           235301 non-null  Int64         \n",
      " 4   Opening Price         232340 non-null  float64       \n",
      " 5   Highest Price         232340 non-null  float64       \n",
      " 6   Lowest Price          232340 non-null  float64       \n",
      " 7   Closing Price         232340 non-null  float64       \n",
      " 8   Dir(+/-)              125784 non-null  object        \n",
      " 9   Change                235301 non-null  float64       \n",
      " 10  Last Best Bid Price   234952 non-null  float64       \n",
      " 11  Last Best Bid Volume  235292 non-null  Int64         \n",
      " 12  Last Best Ask Price   233834 non-null  float64       \n",
      " 13  Last Best Ask Volume  235292 non-null  Int64         \n",
      " 14  Price-Earning ratio   235301 non-null  float64       \n",
      " 15  file_date             235301 non-null  datetime64[ns]\n",
      " 16  Security Code Clean   235301 non-null  object        \n",
      "dtypes: Int64(5), datetime64[ns](1), float64(8), object(3)\n",
      "memory usage: 33.4+ MB\n"
     ]
    }
   ],
   "source": [
    "stockquotes.info()"
   ]
  },
  {
   "cell_type": "code",
   "execution_count": 205,
   "metadata": {},
   "outputs": [
    {
     "name": "stderr",
     "output_type": "stream",
     "text": [
      "C:\\Anaconda202105\\envs\\DataScience\\lib\\site-packages\\pandas\\util\\_decorators.py:311: ParserWarning: Falling back to the 'python' engine because the 'c' engine does not support skipfooter; you can avoid this warning by specifying engine='python'.\n",
      "  return func(*args, **kwargs)\n"
     ]
    }
   ],
   "source": [
    "watchlist_df = make_frame(\"watchlist\")"
   ]
  },
  {
   "cell_type": "code",
   "execution_count": 206,
   "metadata": {},
   "outputs": [
    {
     "data": {
      "text/html": "<div>\n<style scoped>\n    .dataframe tbody tr th:only-of-type {\n        vertical-align: middle;\n    }\n\n    .dataframe tbody tr th {\n        vertical-align: top;\n    }\n\n    .dataframe thead th {\n        text-align: right;\n    }\n</style>\n<table border=\"1\" class=\"dataframe\">\n  <thead>\n    <tr style=\"text-align: right;\">\n      <th></th>\n      <th>Security Code</th>\n      <th>Periodic Call Auction Trading (see Remark below)</th>\n      <th>file_date</th>\n      <th>Security Code Clean</th>\n    </tr>\n  </thead>\n  <tbody>\n    <tr>\n      <th>0</th>\n      <td>1213</td>\n      <td></td>\n      <td>2022-01-03</td>\n      <td>1213</td>\n    </tr>\n    <tr>\n      <th>1</th>\n      <td>1418</td>\n      <td></td>\n      <td>2022-01-03</td>\n      <td>1418</td>\n    </tr>\n    <tr>\n      <th>2</th>\n      <td>1472</td>\n      <td></td>\n      <td>2022-01-03</td>\n      <td>1472</td>\n    </tr>\n    <tr>\n      <th>3</th>\n      <td>1512</td>\n      <td>**</td>\n      <td>2022-01-03</td>\n      <td>1512</td>\n    </tr>\n    <tr>\n      <th>4</th>\n      <td>1538</td>\n      <td></td>\n      <td>2022-01-03</td>\n      <td>1538</td>\n    </tr>\n    <tr>\n      <th>...</th>\n      <td>...</td>\n      <td>...</td>\n      <td>...</td>\n      <td>...</td>\n    </tr>\n    <tr>\n      <th>8</th>\n      <td>3043</td>\n      <td>**</td>\n      <td>2022-10-31</td>\n      <td>3043</td>\n    </tr>\n    <tr>\n      <th>9</th>\n      <td>3536</td>\n      <td>**</td>\n      <td>2022-10-31</td>\n      <td>3536</td>\n    </tr>\n    <tr>\n      <th>10</th>\n      <td>6225</td>\n      <td>**</td>\n      <td>2022-10-31</td>\n      <td>6225</td>\n    </tr>\n    <tr>\n      <th>11</th>\n      <td>8101</td>\n      <td>**</td>\n      <td>2022-10-31</td>\n      <td>8101</td>\n    </tr>\n    <tr>\n      <th>12</th>\n      <td>9110</td>\n      <td></td>\n      <td>2022-10-31</td>\n      <td>9110</td>\n    </tr>\n  </tbody>\n</table>\n<p>3440 rows × 4 columns</p>\n</div>",
      "text/plain": "   Security Code Periodic Call Auction Trading (see Remark below)  file_date  \\\n0           1213                                                  2022-01-03   \n1           1418                                                  2022-01-03   \n2           1472                                                  2022-01-03   \n3           1512                                               ** 2022-01-03   \n4           1538                                                  2022-01-03   \n..           ...                                              ...        ...   \n8           3043                                               ** 2022-10-31   \n9           3536                                               ** 2022-10-31   \n10          6225                                               ** 2022-10-31   \n11          8101                                               ** 2022-10-31   \n12          9110                                                  2022-10-31   \n\n   Security Code Clean  \n0                 1213  \n1                 1418  \n2                 1472  \n3                 1512  \n4                 1538  \n..                 ...  \n8                 3043  \n9                 3536  \n10                6225  \n11                8101  \n12                9110  \n\n[3440 rows x 4 columns]"
     },
     "execution_count": 206,
     "metadata": {},
     "output_type": "execute_result"
    }
   ],
   "source": [
    "watchlist_df"
   ]
  },
  {
   "cell_type": "code",
   "execution_count": 208,
   "metadata": {},
   "outputs": [
    {
     "name": "stdout",
     "output_type": "stream",
     "text": [
      "<class 'pandas.core.frame.DataFrame'>\n",
      "Int64Index: 3440 entries, 0 to 12\n",
      "Data columns (total 4 columns):\n",
      " #   Column                                            Non-Null Count  Dtype         \n",
      "---  ------                                            --------------  -----         \n",
      " 0   Security Code                                     3440 non-null   object        \n",
      " 1   Periodic Call Auction Trading (see Remark below)  3440 non-null   object        \n",
      " 2   file_date                                         3440 non-null   datetime64[ns]\n",
      " 3   Security Code Clean                               3440 non-null   object        \n",
      "dtypes: datetime64[ns](1), object(3)\n",
      "memory usage: 134.4+ KB\n"
     ]
    }
   ],
   "source": [
    "watchlist_df.info()"
   ]
  },
  {
   "cell_type": "code",
   "execution_count": 209,
   "metadata": {},
   "outputs": [],
   "source": [
    "watchlist = pd.read_parquet(r\"C:\\Users\\uc8c\\Desktop\\daa.eq-service-prefunding-challenge\\use_this_data\\watchlist_01012022_10312022\")"
   ]
  },
  {
   "cell_type": "code",
   "execution_count": 210,
   "metadata": {},
   "outputs": [
    {
     "name": "stdout",
     "output_type": "stream",
     "text": [
      "<class 'pandas.core.frame.DataFrame'>\n",
      "Int64Index: 3440 entries, 0 to 12\n",
      "Data columns (total 4 columns):\n",
      " #   Column                                            Non-Null Count  Dtype         \n",
      "---  ------                                            --------------  -----         \n",
      " 0   Security Code                                     3440 non-null   object        \n",
      " 1   Periodic Call Auction Trading (see Remark below)  3440 non-null   object        \n",
      " 2   file_date                                         3440 non-null   datetime64[ns]\n",
      " 3   Security Code Clean                               3440 non-null   object        \n",
      "dtypes: datetime64[ns](1), object(3)\n",
      "memory usage: 134.4+ KB\n"
     ]
    }
   ],
   "source": [
    "watchlist.info()"
   ]
  },
  {
   "cell_type": "code",
   "execution_count": 224,
   "metadata": {},
   "outputs": [
    {
     "data": {
      "text/html": "<div>\n<style scoped>\n    .dataframe tbody tr th:only-of-type {\n        vertical-align: middle;\n    }\n\n    .dataframe tbody tr th {\n        vertical-align: top;\n    }\n\n    .dataframe thead th {\n        text-align: right;\n    }\n</style>\n<table border=\"1\" class=\"dataframe\">\n  <thead>\n    <tr style=\"text-align: right;\">\n      <th></th>\n      <th>Security Code</th>\n      <th>Periodic Call Auction Trading (see Remark below)</th>\n      <th>file_date</th>\n      <th>Security Code Clean</th>\n    </tr>\n  </thead>\n  <tbody>\n    <tr>\n      <th>0</th>\n      <td>1213</td>\n      <td></td>\n      <td>2022-01-03</td>\n      <td>1213</td>\n    </tr>\n    <tr>\n      <th>1</th>\n      <td>1418</td>\n      <td></td>\n      <td>2022-01-03</td>\n      <td>1418</td>\n    </tr>\n    <tr>\n      <th>2</th>\n      <td>1472</td>\n      <td></td>\n      <td>2022-01-03</td>\n      <td>1472</td>\n    </tr>\n    <tr>\n      <th>3</th>\n      <td>1512</td>\n      <td>**</td>\n      <td>2022-01-03</td>\n      <td>1512</td>\n    </tr>\n    <tr>\n      <th>4</th>\n      <td>1538</td>\n      <td></td>\n      <td>2022-01-03</td>\n      <td>1538</td>\n    </tr>\n    <tr>\n      <th>...</th>\n      <td>...</td>\n      <td>...</td>\n      <td>...</td>\n      <td>...</td>\n    </tr>\n    <tr>\n      <th>8</th>\n      <td>3043</td>\n      <td>**</td>\n      <td>2022-10-31</td>\n      <td>3043</td>\n    </tr>\n    <tr>\n      <th>9</th>\n      <td>3536</td>\n      <td>**</td>\n      <td>2022-10-31</td>\n      <td>3536</td>\n    </tr>\n    <tr>\n      <th>10</th>\n      <td>6225</td>\n      <td>**</td>\n      <td>2022-10-31</td>\n      <td>6225</td>\n    </tr>\n    <tr>\n      <th>11</th>\n      <td>8101</td>\n      <td>**</td>\n      <td>2022-10-31</td>\n      <td>8101</td>\n    </tr>\n    <tr>\n      <th>12</th>\n      <td>9110</td>\n      <td></td>\n      <td>2022-10-31</td>\n      <td>9110</td>\n    </tr>\n  </tbody>\n</table>\n<p>3440 rows × 4 columns</p>\n</div>",
      "text/plain": "   Security Code Periodic Call Auction Trading (see Remark below)  file_date  \\\n0           1213                                                  2022-01-03   \n1           1418                                                  2022-01-03   \n2           1472                                                  2022-01-03   \n3           1512                                               ** 2022-01-03   \n4           1538                                                  2022-01-03   \n..           ...                                              ...        ...   \n8           3043                                               ** 2022-10-31   \n9           3536                                               ** 2022-10-31   \n10          6225                                               ** 2022-10-31   \n11          8101                                               ** 2022-10-31   \n12          9110                                                  2022-10-31   \n\n   Security Code Clean  \n0                 1213  \n1                 1418  \n2                 1472  \n3                 1512  \n4                 1538  \n..                 ...  \n8                 3043  \n9                 3536  \n10                6225  \n11                8101  \n12                9110  \n\n[3440 rows x 4 columns]"
     },
     "execution_count": 224,
     "metadata": {},
     "output_type": "execute_result"
    }
   ],
   "source": [
    "watchlist"
   ]
  },
  {
   "cell_type": "code",
   "execution_count": 211,
   "metadata": {},
   "outputs": [
    {
     "name": "stderr",
     "output_type": "stream",
     "text": [
      "C:\\Anaconda202105\\envs\\DataScience\\lib\\site-packages\\pandas\\util\\_decorators.py:311: ParserWarning: Falling back to the 'python' engine because the 'c' engine does not support skipfooter; you can avoid this warning by specifying engine='python'.\n",
      "  return func(*args, **kwargs)\n"
     ]
    }
   ],
   "source": [
    "shortsales_df = make_frame(\"shortsales\")"
   ]
  },
  {
   "cell_type": "code",
   "execution_count": 212,
   "metadata": {},
   "outputs": [
    {
     "name": "stdout",
     "output_type": "stream",
     "text": [
      "<class 'pandas.core.frame.DataFrame'>\n",
      "Int64Index: 224945 entries, 0 to 1122\n",
      "Data columns (total 5 columns):\n",
      " #   Column               Non-Null Count   Dtype         \n",
      "---  ------               --------------   -----         \n",
      " 0   Security Code        224945 non-null  object        \n",
      " 1   Trading Volume       224945 non-null  Int64         \n",
      " 2   Trading Value        224945 non-null  Int64         \n",
      " 3   file_date            224945 non-null  datetime64[ns]\n",
      " 4   Security Code Clean  224945 non-null  object        \n",
      "dtypes: Int64(2), datetime64[ns](1), object(2)\n",
      "memory usage: 10.7+ MB\n"
     ]
    }
   ],
   "source": [
    "shortsales_df.info()"
   ]
  },
  {
   "cell_type": "code",
   "execution_count": 255,
   "metadata": {},
   "outputs": [
    {
     "data": {
      "text/html": "<div>\n<style scoped>\n    .dataframe tbody tr th:only-of-type {\n        vertical-align: middle;\n    }\n\n    .dataframe tbody tr th {\n        vertical-align: top;\n    }\n\n    .dataframe thead th {\n        text-align: right;\n    }\n</style>\n<table border=\"1\" class=\"dataframe\">\n  <thead>\n    <tr style=\"text-align: right;\">\n      <th></th>\n      <th>Security Code</th>\n      <th>Trading Volume</th>\n      <th>Trading Value</th>\n      <th>file_date</th>\n      <th>Security Code Clean</th>\n    </tr>\n  </thead>\n  <tbody>\n    <tr>\n      <th>0</th>\n      <td>=\"0050\"</td>\n      <td>2</td>\n      <td>292950</td>\n      <td>2022-01-03</td>\n      <td>0050</td>\n    </tr>\n    <tr>\n      <th>1</th>\n      <td>=\"0051\"</td>\n      <td>0</td>\n      <td>0</td>\n      <td>2022-01-03</td>\n      <td>0051</td>\n    </tr>\n    <tr>\n      <th>2</th>\n      <td>=\"0052\"</td>\n      <td>0</td>\n      <td>0</td>\n      <td>2022-01-03</td>\n      <td>0052</td>\n    </tr>\n    <tr>\n      <th>3</th>\n      <td>=\"0053\"</td>\n      <td>0</td>\n      <td>0</td>\n      <td>2022-01-03</td>\n      <td>0053</td>\n    </tr>\n    <tr>\n      <th>4</th>\n      <td>=\"0054\"</td>\n      <td>0</td>\n      <td>0</td>\n      <td>2022-01-03</td>\n      <td>0054</td>\n    </tr>\n    <tr>\n      <th>...</th>\n      <td>...</td>\n      <td>...</td>\n      <td>...</td>\n      <td>...</td>\n      <td>...</td>\n    </tr>\n    <tr>\n      <th>1118</th>\n      <td>9944</td>\n      <td>0</td>\n      <td>0</td>\n      <td>2022-10-31</td>\n      <td>9944</td>\n    </tr>\n    <tr>\n      <th>1119</th>\n      <td>9945</td>\n      <td>173</td>\n      <td>6891050</td>\n      <td>2022-10-31</td>\n      <td>9945</td>\n    </tr>\n    <tr>\n      <th>1120</th>\n      <td>9946</td>\n      <td>0</td>\n      <td>0</td>\n      <td>2022-10-31</td>\n      <td>9946</td>\n    </tr>\n    <tr>\n      <th>1121</th>\n      <td>9955</td>\n      <td>0</td>\n      <td>0</td>\n      <td>2022-10-31</td>\n      <td>9955</td>\n    </tr>\n    <tr>\n      <th>1122</th>\n      <td>9958</td>\n      <td>148</td>\n      <td>11612400</td>\n      <td>2022-10-31</td>\n      <td>9958</td>\n    </tr>\n  </tbody>\n</table>\n<p>224945 rows × 5 columns</p>\n</div>",
      "text/plain": "     Security Code  Trading Volume  Trading Value  file_date  \\\n0          =\"0050\"               2         292950 2022-01-03   \n1          =\"0051\"               0              0 2022-01-03   \n2          =\"0052\"               0              0 2022-01-03   \n3          =\"0053\"               0              0 2022-01-03   \n4          =\"0054\"               0              0 2022-01-03   \n...            ...             ...            ...        ...   \n1118          9944               0              0 2022-10-31   \n1119          9945             173        6891050 2022-10-31   \n1120          9946               0              0 2022-10-31   \n1121          9955               0              0 2022-10-31   \n1122          9958             148       11612400 2022-10-31   \n\n     Security Code Clean  \n0                   0050  \n1                   0051  \n2                   0052  \n3                   0053  \n4                   0054  \n...                  ...  \n1118                9944  \n1119                9945  \n1120                9946  \n1121                9955  \n1122                9958  \n\n[224945 rows x 5 columns]"
     },
     "execution_count": 255,
     "metadata": {},
     "output_type": "execute_result"
    }
   ],
   "source": [
    "shortsales_df"
   ]
  },
  {
   "cell_type": "code",
   "execution_count": 221,
   "metadata": {},
   "outputs": [],
   "source": [
    "shortsales_df = pd.read_parquet(r\"C:\\Users\\uc8c\\Desktop\\daa.eq-service-prefunding-challenge\\use_this_data\\shortsales_01012022_10312022\")"
   ]
  },
  {
   "cell_type": "code",
   "execution_count": 222,
   "metadata": {},
   "outputs": [
    {
     "name": "stdout",
     "output_type": "stream",
     "text": [
      "<class 'pandas.core.frame.DataFrame'>\n",
      "Int64Index: 224945 entries, 0 to 1122\n",
      "Data columns (total 5 columns):\n",
      " #   Column               Non-Null Count   Dtype         \n",
      "---  ------               --------------   -----         \n",
      " 0   Security Code        224945 non-null  object        \n",
      " 1   Trading Volume       224945 non-null  Int64         \n",
      " 2   Trading Value        224945 non-null  Int64         \n",
      " 3   file_date            224945 non-null  datetime64[ns]\n",
      " 4   Security Code Clean  224945 non-null  object        \n",
      "dtypes: Int64(2), datetime64[ns](1), object(2)\n",
      "memory usage: 10.7+ MB\n"
     ]
    }
   ],
   "source": [
    "shortsales_df.info()"
   ]
  },
  {
   "cell_type": "code",
   "execution_count": 223,
   "metadata": {},
   "outputs": [
    {
     "data": {
      "text/html": "<div>\n<style scoped>\n    .dataframe tbody tr th:only-of-type {\n        vertical-align: middle;\n    }\n\n    .dataframe tbody tr th {\n        vertical-align: top;\n    }\n\n    .dataframe thead th {\n        text-align: right;\n    }\n</style>\n<table border=\"1\" class=\"dataframe\">\n  <thead>\n    <tr style=\"text-align: right;\">\n      <th></th>\n      <th>Security Code</th>\n      <th>Trading Volume</th>\n      <th>Trading Value</th>\n      <th>file_date</th>\n      <th>Security Code Clean</th>\n    </tr>\n  </thead>\n  <tbody>\n    <tr>\n      <th>0</th>\n      <td>=\"0050\"</td>\n      <td>2</td>\n      <td>292950</td>\n      <td>2022-01-03</td>\n      <td>0050</td>\n    </tr>\n    <tr>\n      <th>1</th>\n      <td>=\"0051\"</td>\n      <td>0</td>\n      <td>0</td>\n      <td>2022-01-03</td>\n      <td>0051</td>\n    </tr>\n    <tr>\n      <th>2</th>\n      <td>=\"0052\"</td>\n      <td>0</td>\n      <td>0</td>\n      <td>2022-01-03</td>\n      <td>0052</td>\n    </tr>\n    <tr>\n      <th>3</th>\n      <td>=\"0053\"</td>\n      <td>0</td>\n      <td>0</td>\n      <td>2022-01-03</td>\n      <td>0053</td>\n    </tr>\n    <tr>\n      <th>4</th>\n      <td>=\"0054\"</td>\n      <td>0</td>\n      <td>0</td>\n      <td>2022-01-03</td>\n      <td>0054</td>\n    </tr>\n    <tr>\n      <th>...</th>\n      <td>...</td>\n      <td>...</td>\n      <td>...</td>\n      <td>...</td>\n      <td>...</td>\n    </tr>\n    <tr>\n      <th>1118</th>\n      <td>9944</td>\n      <td>0</td>\n      <td>0</td>\n      <td>2022-10-31</td>\n      <td>9944</td>\n    </tr>\n    <tr>\n      <th>1119</th>\n      <td>9945</td>\n      <td>173</td>\n      <td>6891050</td>\n      <td>2022-10-31</td>\n      <td>9945</td>\n    </tr>\n    <tr>\n      <th>1120</th>\n      <td>9946</td>\n      <td>0</td>\n      <td>0</td>\n      <td>2022-10-31</td>\n      <td>9946</td>\n    </tr>\n    <tr>\n      <th>1121</th>\n      <td>9955</td>\n      <td>0</td>\n      <td>0</td>\n      <td>2022-10-31</td>\n      <td>9955</td>\n    </tr>\n    <tr>\n      <th>1122</th>\n      <td>9958</td>\n      <td>148</td>\n      <td>11612400</td>\n      <td>2022-10-31</td>\n      <td>9958</td>\n    </tr>\n  </tbody>\n</table>\n<p>224945 rows × 5 columns</p>\n</div>",
      "text/plain": "     Security Code  Trading Volume  Trading Value  file_date  \\\n0          =\"0050\"               2         292950 2022-01-03   \n1          =\"0051\"               0              0 2022-01-03   \n2          =\"0052\"               0              0 2022-01-03   \n3          =\"0053\"               0              0 2022-01-03   \n4          =\"0054\"               0              0 2022-01-03   \n...            ...             ...            ...        ...   \n1118          9944               0              0 2022-10-31   \n1119          9945             173        6891050 2022-10-31   \n1120          9946               0              0 2022-10-31   \n1121          9955               0              0 2022-10-31   \n1122          9958             148       11612400 2022-10-31   \n\n     Security Code Clean  \n0                   0050  \n1                   0051  \n2                   0052  \n3                   0053  \n4                   0054  \n...                  ...  \n1118                9944  \n1119                9945  \n1120                9946  \n1121                9955  \n1122                9958  \n\n[224945 rows x 5 columns]"
     },
     "execution_count": 223,
     "metadata": {},
     "output_type": "execute_result"
    }
   ],
   "source": [
    "shortsales_df"
   ]
  },
  {
   "cell_type": "code",
   "execution_count": 215,
   "metadata": {},
   "outputs": [],
   "source": [
    "ratios_df = make_frame(\"ratios\")"
   ]
  },
  {
   "cell_type": "code",
   "execution_count": 216,
   "metadata": {},
   "outputs": [
    {
     "name": "stdout",
     "output_type": "stream",
     "text": [
      "<class 'pandas.core.frame.DataFrame'>\n",
      "Int64Index: 194392 entries, 0 to 964\n",
      "Data columns (total 8 columns):\n",
      " #   Column                 Non-Null Count   Dtype         \n",
      "---  ------                 --------------   -----         \n",
      " 0   Security Code          194392 non-null  object        \n",
      " 1   Dividend yield (%)     194392 non-null  float64       \n",
      " 2   Dividend year          194392 non-null  Int32         \n",
      " 3   P/E ratio              168174 non-null  float64       \n",
      " 4   P/B ratio              194346 non-null  float64       \n",
      " 5   Fiscal year / quarter  194392 non-null  object        \n",
      " 6   file_date              194392 non-null  datetime64[ns]\n",
      " 7   Security Code Clean    194392 non-null  object        \n",
      "dtypes: Int32(1), datetime64[ns](1), float64(3), object(3)\n",
      "memory usage: 12.8+ MB\n"
     ]
    }
   ],
   "source": [
    "ratios_df.info()"
   ]
  },
  {
   "cell_type": "code",
   "execution_count": 219,
   "metadata": {},
   "outputs": [],
   "source": [
    "ratios = pd.read_parquet(r'C:\\Users\\uc8c\\Desktop\\daa.eq-service-prefunding-challenge\\use_this_data\\ratios_01012022_10312022')"
   ]
  },
  {
   "cell_type": "code",
   "execution_count": 220,
   "metadata": {},
   "outputs": [
    {
     "data": {
      "text/html": "<div>\n<style scoped>\n    .dataframe tbody tr th:only-of-type {\n        vertical-align: middle;\n    }\n\n    .dataframe tbody tr th {\n        vertical-align: top;\n    }\n\n    .dataframe thead th {\n        text-align: right;\n    }\n</style>\n<table border=\"1\" class=\"dataframe\">\n  <thead>\n    <tr style=\"text-align: right;\">\n      <th></th>\n      <th>Security Code</th>\n      <th>Dividend yield (%)</th>\n      <th>Dividend year</th>\n      <th>P/E ratio</th>\n      <th>P/B ratio</th>\n      <th>Fiscal year / quarter</th>\n      <th>file_date</th>\n      <th>Security Code Clean</th>\n    </tr>\n  </thead>\n  <tbody>\n    <tr>\n      <th>0</th>\n      <td>1101</td>\n      <td>7.10</td>\n      <td>2020</td>\n      <td>13.91</td>\n      <td>1.49</td>\n      <td>2021/3</td>\n      <td>2022-01-03</td>\n      <td>1101</td>\n    </tr>\n    <tr>\n      <th>1</th>\n      <td>1102</td>\n      <td>7.86</td>\n      <td>2020</td>\n      <td>10.09</td>\n      <td>1.03</td>\n      <td>2021/3</td>\n      <td>2022-01-03</td>\n      <td>1102</td>\n    </tr>\n    <tr>\n      <th>2</th>\n      <td>1103</td>\n      <td>6.76</td>\n      <td>2020</td>\n      <td>7.29</td>\n      <td>0.51</td>\n      <td>2021/3</td>\n      <td>2022-01-03</td>\n      <td>1103</td>\n    </tr>\n    <tr>\n      <th>3</th>\n      <td>1104</td>\n      <td>5.09</td>\n      <td>2020</td>\n      <td>12.78</td>\n      <td>0.75</td>\n      <td>2021/3</td>\n      <td>2022-01-03</td>\n      <td>1104</td>\n    </tr>\n    <tr>\n      <th>4</th>\n      <td>1108</td>\n      <td>5.88</td>\n      <td>2020</td>\n      <td>20.52</td>\n      <td>1.06</td>\n      <td>2021/3</td>\n      <td>2022-01-03</td>\n      <td>1108</td>\n    </tr>\n    <tr>\n      <th>...</th>\n      <td>...</td>\n      <td>...</td>\n      <td>...</td>\n      <td>...</td>\n      <td>...</td>\n      <td>...</td>\n      <td>...</td>\n      <td>...</td>\n    </tr>\n    <tr>\n      <th>960</th>\n      <td>9944</td>\n      <td>4.90</td>\n      <td>2021</td>\n      <td>4.11</td>\n      <td>0.66</td>\n      <td>2022/2</td>\n      <td>2022-10-31</td>\n      <td>9944</td>\n    </tr>\n    <tr>\n      <th>961</th>\n      <td>9945</td>\n      <td>17.68</td>\n      <td>2021</td>\n      <td>5.34</td>\n      <td>2.96</td>\n      <td>2022/2</td>\n      <td>2022-10-31</td>\n      <td>9945</td>\n    </tr>\n    <tr>\n      <th>962</th>\n      <td>9946</td>\n      <td>5.89</td>\n      <td>2021</td>\n      <td>18.33</td>\n      <td>0.59</td>\n      <td>2022/2</td>\n      <td>2022-10-31</td>\n      <td>9946</td>\n    </tr>\n    <tr>\n      <th>963</th>\n      <td>9955</td>\n      <td>0.00</td>\n      <td>2021</td>\n      <td>NaN</td>\n      <td>1.21</td>\n      <td>2022/2</td>\n      <td>2022-10-31</td>\n      <td>9955</td>\n    </tr>\n    <tr>\n      <th>964</th>\n      <td>9958</td>\n      <td>3.88</td>\n      <td>2021</td>\n      <td>19.35</td>\n      <td>2.54</td>\n      <td>2022/2</td>\n      <td>2022-10-31</td>\n      <td>9958</td>\n    </tr>\n  </tbody>\n</table>\n<p>194392 rows × 8 columns</p>\n</div>",
      "text/plain": "    Security Code  Dividend yield (%)  Dividend year  P/E ratio  P/B ratio  \\\n0            1101                7.10           2020      13.91       1.49   \n1            1102                7.86           2020      10.09       1.03   \n2            1103                6.76           2020       7.29       0.51   \n3            1104                5.09           2020      12.78       0.75   \n4            1108                5.88           2020      20.52       1.06   \n..            ...                 ...            ...        ...        ...   \n960          9944                4.90           2021       4.11       0.66   \n961          9945               17.68           2021       5.34       2.96   \n962          9946                5.89           2021      18.33       0.59   \n963          9955                0.00           2021        NaN       1.21   \n964          9958                3.88           2021      19.35       2.54   \n\n    Fiscal year / quarter  file_date Security Code Clean  \n0                  2021/3 2022-01-03                1101  \n1                  2021/3 2022-01-03                1102  \n2                  2021/3 2022-01-03                1103  \n3                  2021/3 2022-01-03                1104  \n4                  2021/3 2022-01-03                1108  \n..                    ...        ...                 ...  \n960                2022/2 2022-10-31                9944  \n961                2022/2 2022-10-31                9945  \n962                2022/2 2022-10-31                9946  \n963                2022/2 2022-10-31                9955  \n964                2022/2 2022-10-31                9958  \n\n[194392 rows x 8 columns]"
     },
     "execution_count": 220,
     "metadata": {},
     "output_type": "execute_result"
    }
   ],
   "source": [
    "ratios"
   ]
  }
 ],
 "metadata": {
  "kernelspec": {
   "display_name": "Python 3.8.11 64-bit ('DataScience': conda)",
   "name": "python3811jvsc74a57bd09b6cd22bcf3fdb6ab28c5b1da895fc65a9e91983caa5811cc7c5cb4e726bb27a"
  },
  "language_info": {
   "codemirror_mode": {
    "name": "ipython",
    "version": 3
   },
   "file_extension": ".py",
   "mimetype": "text/x-python",
   "name": "python",
   "nbconvert_exporter": "python",
   "pygments_lexer": "ipython3",
   "version": "3.8.11"
  },
  "orig_nbformat": 2
 },
 "nbformat": 4,
 "nbformat_minor": 2
}