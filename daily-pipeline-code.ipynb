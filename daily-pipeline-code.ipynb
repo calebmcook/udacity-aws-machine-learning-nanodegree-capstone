{
 "cells": [
  {
   "cell_type": "markdown",
   "id": "8b0f655c",
   "metadata": {},
   "source": [
    "# Pipeline code for daily update of data"
   ]
  },
  {
   "cell_type": "code",
   "execution_count": 2,
   "id": "45a9475a",
   "metadata": {},
   "outputs": [],
   "source": [
    "import time\n",
    "import pandas as pd\n",
    "import shutil\n",
    "import glob\n",
    "import re"
   ]
  },
  {
   "cell_type": "code",
   "execution_count": null,
   "id": "3af383be",
   "metadata": {},
   "outputs": [],
   "source": [
    "pd.read_csv"
   ]
  },
  {
   "cell_type": "code",
   "execution_count": null,
   "id": "4cee48ac",
   "metadata": {},
   "outputs": [],
   "source": [
    "#extacting just the stock quotes from the summary files.\n",
    "for filepath in summary_files[5:]:\n",
    "    data_start = 1000000\n",
    "    with open(filepath, 'r') as f:\n",
    "        with open(os.path.join(os.path.split(filepath)[0], os.path.split(filepath)[1][:-4]+\"_stock_quotes.csv\"), 'w') as temp:\n",
    "            for i, line in enumerate(f):\n",
    "                try:\n",
    "                    if \"Security Code\" in line:\n",
    "                        data_start = i\n",
    "                        temp.write(line)\n",
    "\n",
    "                    if (i > data_start):\n",
    "                        if \"Remarks:\" in line:\n",
    "                            break\n",
    "                        temp.write(line)\n",
    "                        \n",
    "                except:\n",
    "                    print(f\"Error reading line: {i}\")\n",
    "                    errors.append(i)\n"
   ]
  }
 ],
 "metadata": {
  "kernelspec": {
   "display_name": "conda_python3",
   "language": "python",
   "name": "conda_python3"
  },
  "language_info": {
   "codemirror_mode": {
    "name": "ipython",
    "version": 3
   },
   "file_extension": ".py",
   "mimetype": "text/x-python",
   "name": "python",
   "nbconvert_exporter": "python",
   "pygments_lexer": "ipython3",
   "version": "3.8.12"
  }
 },
 "nbformat": 4,
 "nbformat_minor": 5
}
